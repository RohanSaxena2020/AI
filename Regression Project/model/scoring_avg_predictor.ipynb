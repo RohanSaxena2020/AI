{
 "cells": [
  {
   "cell_type": "markdown",
   "metadata": {},
   "source": [
    "<h1 style='color:purple' align='center'>Data Science Regression Project: Predicting Golfer's Scoring Average</h1>"
   ]
  },
  {
   "cell_type": "markdown",
   "metadata": {},
   "source": [
    "### This model is designed to predict a golfer's scoring average based on 4 inputs"
   ]
  },
  {
   "cell_type": "markdown",
   "metadata": {},
   "source": [
    "<h3 style='color:purple' align='left'>Background Part 1</h3>\n",
    "\n",
    "The PGA tour (which is the highest level of professional golf similar to the NFL or MLB) has an 8 month season. \n",
    "\n",
    "Throughout the 8 month season, players work to accumulate Fedex Cup points by winning or finishing well at different tournaments. \n",
    "\n",
    "The season ends with a final tournament, called the Tour Championship. \n",
    "\n",
    "The Tour Championship works different that most golf tournaments. \n",
    "\n",
    "In most golf tournaments, all players start at the same score (Even Par or E)\n",
    "\n",
    "However, the Tour Championship features a strokes-based system that was started in 2019. \n",
    "\n",
    "Under this system, the player with the most Fedex Cup points prior to the Tour Champtionship starts at -10 (Ten Under Par), while second place starts at -8, third place starts at -7, all the way down to players 26-30 starting at E. \n",
    "\n",
    "Meaning that if you have more Fedex Cup points prior to starting the tournament, you have a big advantage over the rest of the field. \n",
    "\n",
    "And if you win the Tour Championship, you get a hefty amount of money ($25 Million as of 2024). \n",
    "\n",
    "Therefore, it's not just important to win on the PGA tour, but it's also important to do well throughout the season so that you can get a lot of Fedex Cup points and give yourself the best chance of winning. \n",
    "\n",
    "One of the best measures of how consistently well a player is playing is their Scoring Average (i.e. the average score they shoot). "
   ]
  },
  {
   "cell_type": "markdown",
   "metadata": {},
   "source": [
    "<h3 style='color:purple' align='left'>Background Part 2</h3>\n",
    "\n",
    "The PGA tour does a great job keeping detailed statistics. \n",
    "\n",
    "One of the measures they used is called \"Strokes Gained,\" which breaks down into multiple categories:\n",
    "\n",
    "- Strokes Gained Off the Tee (aka the first shot you hit)\n",
    "- Strokes Gained Approach (aka after you hit your first shot, the shot(s) you hit onto the green)\n",
    "- Strokes Gained Around the Green (when you miss the green, how well do you do)\n",
    "- Strokes Gained Putting (how well do you putt)\n",
    "\n",
    "How Strokes Gained works is that for each shot a player hits, they will compare that shot to if the average PGA tour player hit that shot. \n",
    "\n",
    "Meaning that if the player did better than the PGA tour average, they will \"gain strokes.\"\n",
    "\n",
    "And if they did worse than the PGA tour aver, they will \"lose strokes.\"\n",
    "\n",
    "The easiest example to explain this is a simple 3 foot putt.  \n",
    "\n",
    "On average, PGA tour players make 96% of 3 foot putts (according to research by Columbia University professor Mark Broadie). \n",
    "\n",
    "Meaning that if a player makes a 3 foot putt, they gain 0.04 strokes on the field. \n",
    "\n",
    "And if they miss a 3 foot putt, they lose .96 strokes. "
   ]
  },
  {
   "cell_type": "markdown",
   "metadata": {},
   "source": [
    "### Hope that makes sense. Now on to coding!!"
   ]
  },
  {
   "cell_type": "code",
   "execution_count": 1,
   "metadata": {},
   "outputs": [],
   "source": [
    "# import necessary libraries\n",
    "\n",
    "import pandas as pd\n",
    "import numpy as np\n",
    "from matplotlib import pyplot as plt\n",
    "%matplotlib inline\n",
    "import matplotlib \n",
    "matplotlib.rcParams[\"figure.figsize\"] = (20,10)"
   ]
  },
  {
   "cell_type": "code",
   "execution_count": 2,
   "metadata": {},
   "outputs": [
    {
     "data": {
      "text/html": [
       "<div>\n",
       "<style scoped>\n",
       "    .dataframe tbody tr th:only-of-type {\n",
       "        vertical-align: middle;\n",
       "    }\n",
       "\n",
       "    .dataframe tbody tr th {\n",
       "        vertical-align: top;\n",
       "    }\n",
       "\n",
       "    .dataframe thead th {\n",
       "        text-align: right;\n",
       "    }\n",
       "</style>\n",
       "<table border=\"1\" class=\"dataframe\">\n",
       "  <thead>\n",
       "    <tr style=\"text-align: right;\">\n",
       "      <th></th>\n",
       "      <th>PLAYER_ID</th>\n",
       "      <th>PLAYER_NAME</th>\n",
       "      <th>scoring_average</th>\n",
       "      <th>SG_OTT</th>\n",
       "      <th>SG_APP</th>\n",
       "      <th>SG_ATG</th>\n",
       "      <th>SG_PUTTING</th>\n",
       "    </tr>\n",
       "  </thead>\n",
       "  <tbody>\n",
       "    <tr>\n",
       "      <th>0</th>\n",
       "      <td>12716</td>\n",
       "      <td>Charley Hoffman</td>\n",
       "      <td>71.178</td>\n",
       "      <td>0.012</td>\n",
       "      <td>0.126</td>\n",
       "      <td>0.013</td>\n",
       "      <td>-0.098</td>\n",
       "    </tr>\n",
       "    <tr>\n",
       "      <th>1</th>\n",
       "      <td>22371</td>\n",
       "      <td>Aaron Baddeley</td>\n",
       "      <td>70.998</td>\n",
       "      <td>-0.781</td>\n",
       "      <td>-0.372</td>\n",
       "      <td>0.630</td>\n",
       "      <td>0.758</td>\n",
       "    </tr>\n",
       "    <tr>\n",
       "      <th>2</th>\n",
       "      <td>22405</td>\n",
       "      <td>Justin Rose</td>\n",
       "      <td>72.090</td>\n",
       "      <td>-0.163</td>\n",
       "      <td>-0.773</td>\n",
       "      <td>0.065</td>\n",
       "      <td>0.264</td>\n",
       "    </tr>\n",
       "    <tr>\n",
       "      <th>3</th>\n",
       "      <td>23108</td>\n",
       "      <td>Matt Kuchar</td>\n",
       "      <td>71.986</td>\n",
       "      <td>-0.127</td>\n",
       "      <td>-1.137</td>\n",
       "      <td>0.185</td>\n",
       "      <td>0.221</td>\n",
       "    </tr>\n",
       "    <tr>\n",
       "      <th>4</th>\n",
       "      <td>23320</td>\n",
       "      <td>Ryan Palmer</td>\n",
       "      <td>71.802</td>\n",
       "      <td>0.300</td>\n",
       "      <td>-0.388</td>\n",
       "      <td>0.017</td>\n",
       "      <td>-0.686</td>\n",
       "    </tr>\n",
       "  </tbody>\n",
       "</table>\n",
       "</div>"
      ],
      "text/plain": [
       "   PLAYER_ID      PLAYER_NAME  scoring_average  SG_OTT  SG_APP  SG_ATG  \\\n",
       "0      12716  Charley Hoffman           71.178   0.012   0.126   0.013   \n",
       "1      22371   Aaron Baddeley           70.998  -0.781  -0.372   0.630   \n",
       "2      22405      Justin Rose           72.090  -0.163  -0.773   0.065   \n",
       "3      23108      Matt Kuchar           71.986  -0.127  -1.137   0.185   \n",
       "4      23320      Ryan Palmer           71.802   0.300  -0.388   0.017   \n",
       "\n",
       "   SG_PUTTING  \n",
       "0      -0.098  \n",
       "1       0.758  \n",
       "2       0.264  \n",
       "3       0.221  \n",
       "4      -0.686  "
      ]
     },
     "execution_count": 2,
     "metadata": {},
     "output_type": "execute_result"
    }
   ],
   "source": [
    "df = pd.read_csv(\"final_dataset.csv\")\n",
    "df.head()"
   ]
  },
  {
   "cell_type": "markdown",
   "metadata": {},
   "source": [
    "#### SG_OTT -> Strokes Gained Off the Tee\n",
    "#### SG_APP -> Strokes Gained Approach\n",
    "#### SG_ATG -> Stroked Gained Around the Green\n",
    "#### SG_Putting -> Strokes Gained Putting"
   ]
  },
  {
   "cell_type": "code",
   "execution_count": 3,
   "metadata": {},
   "outputs": [
    {
     "data": {
      "text/plain": [
       "PLAYER_ID          0\n",
       "PLAYER_NAME        0\n",
       "scoring_average    0\n",
       "SG_OTT             0\n",
       "SG_APP             0\n",
       "SG_ATG             0\n",
       "SG_PUTTING         0\n",
       "dtype: int64"
      ]
     },
     "execution_count": 3,
     "metadata": {},
     "output_type": "execute_result"
    }
   ],
   "source": [
    "df.isnull().sum()"
   ]
  },
  {
   "cell_type": "code",
   "execution_count": 5,
   "metadata": {},
   "outputs": [
    {
     "data": {
      "text/plain": [
       "(186, 7)"
      ]
     },
     "execution_count": 5,
     "metadata": {},
     "output_type": "execute_result"
    }
   ],
   "source": [
    "df.shape"
   ]
  },
  {
   "cell_type": "code",
   "execution_count": 9,
   "metadata": {},
   "outputs": [
    {
     "data": {
      "image/png": "[encoded data removed]",
      "text/plain": [
       "<Figure size 1200x1200 with 5 Axes>"
      ]
     },
     "metadata": {},
     "output_type": "display_data"
    }
   ],
   "source": [
    "# Create some histograms to show the different ranges\n",
    "\n",
    "import seaborn as sns\n",
    "\n",
    "# Set the aesthetic style of the plots\n",
    "sns.set(style='whitegrid')\n",
    "\n",
    "# Set up the figure and axes for a 3x2 grid of plots\n",
    "fig, axes = plt.subplots(3, 2, figsize=(12, 12))\n",
    "fig.tight_layout(pad=5.0)\n",
    "\n",
    "# List of columns to plot\n",
    "columns = ['scoring_average', 'SG_OTT', 'SG_APP', 'SG_ATG', 'SG_PUTTING']\n",
    "\n",
    "# Plot histograms with Seaborn\n",
    "for ax, column in zip(axes.flatten(), columns):\n",
    "    sns.histplot(df[column], bins=20, kde=False, color='blue', ax=ax)\n",
    "    ax.set_title(f'Histogram of {column}')\n",
    "    ax.set_xlabel(column)\n",
    "    ax.set_ylabel('Frequency')\n",
    "\n",
    "# Remove empty subplot (if any)\n",
    "if len(columns) < 6:\n",
    "    fig.delaxes(axes.flatten()[len(columns)])\n",
    "\n",
    "plt.show()"
   ]
  },
  {
   "cell_type": "code",
   "execution_count": 14,
   "metadata": {},
   "outputs": [
    {
     "data": {
      "text/plain": [
       "71.334"
      ]
     },
     "execution_count": 14,
     "metadata": {},
     "output_type": "execute_result"
    }
   ],
   "source": [
    "df.scoring_average.mean()"
   ]
  },
  {
   "cell_type": "code",
   "execution_count": 11,
   "metadata": {},
   "outputs": [
    {
     "data": {
      "text/plain": [
       "0.6867242571843557"
      ]
     },
     "execution_count": 11,
     "metadata": {},
     "output_type": "execute_result"
    }
   ],
   "source": [
    "df.scoring_average.std()"
   ]
  },
  {
   "cell_type": "code",
   "execution_count": 16,
   "metadata": {},
   "outputs": [
    {
     "data": {
      "text/plain": [
       "69.27382722844693"
      ]
     },
     "execution_count": 16,
     "metadata": {},
     "output_type": "execute_result"
    }
   ],
   "source": [
    "min_scoring_average = df.scoring_average.mean() - 3*df.scoring_average.std()\n",
    "\n",
    "min_scoring_average"
   ]
  },
  {
   "cell_type": "code",
   "execution_count": 17,
   "metadata": {},
   "outputs": [
    {
     "data": {
      "text/html": [
       "<div>\n",
       "<style scoped>\n",
       "    .dataframe tbody tr th:only-of-type {\n",
       "        vertical-align: middle;\n",
       "    }\n",
       "\n",
       "    .dataframe tbody tr th {\n",
       "        vertical-align: top;\n",
       "    }\n",
       "\n",
       "    .dataframe thead th {\n",
       "        text-align: right;\n",
       "    }\n",
       "</style>\n",
       "<table border=\"1\" class=\"dataframe\">\n",
       "  <thead>\n",
       "    <tr style=\"text-align: right;\">\n",
       "      <th></th>\n",
       "      <th>PLAYER_ID</th>\n",
       "      <th>PLAYER_NAME</th>\n",
       "      <th>scoring_average</th>\n",
       "      <th>SG_OTT</th>\n",
       "      <th>SG_APP</th>\n",
       "      <th>SG_ATG</th>\n",
       "      <th>SG_PUTTING</th>\n",
       "    </tr>\n",
       "  </thead>\n",
       "  <tbody>\n",
       "    <tr>\n",
       "      <th>106</th>\n",
       "      <td>46046</td>\n",
       "      <td>Scottie Scheffler</td>\n",
       "      <td>68.743</td>\n",
       "      <td>0.957</td>\n",
       "      <td>1.398</td>\n",
       "      <td>0.48</td>\n",
       "      <td>0.016</td>\n",
       "    </tr>\n",
       "  </tbody>\n",
       "</table>\n",
       "</div>"
      ],
      "text/plain": [
       "     PLAYER_ID        PLAYER_NAME  scoring_average  SG_OTT  SG_APP  SG_ATG  \\\n",
       "106      46046  Scottie Scheffler           68.743   0.957   1.398    0.48   \n",
       "\n",
       "     SG_PUTTING  \n",
       "106       0.016  "
      ]
     },
     "execution_count": 17,
     "metadata": {},
     "output_type": "execute_result"
    }
   ],
   "source": [
    "df[(df.scoring_average<min_scoring_average)]"
   ]
  },
  {
   "cell_type": "code",
   "execution_count": 18,
   "metadata": {},
   "outputs": [
    {
     "data": {
      "text/plain": [
       "73.39417277155307"
      ]
     },
     "execution_count": 18,
     "metadata": {},
     "output_type": "execute_result"
    }
   ],
   "source": [
    "max_scoring_average = df.scoring_average.mean() + 3*df.scoring_average.std()\n",
    "\n",
    "max_scoring_average"
   ]
  },
  {
   "cell_type": "code",
   "execution_count": 19,
   "metadata": {},
   "outputs": [
    {
     "data": {
      "text/html": [
       "<div>\n",
       "<style scoped>\n",
       "    .dataframe tbody tr th:only-of-type {\n",
       "        vertical-align: middle;\n",
       "    }\n",
       "\n",
       "    .dataframe tbody tr th {\n",
       "        vertical-align: top;\n",
       "    }\n",
       "\n",
       "    .dataframe thead th {\n",
       "        text-align: right;\n",
       "    }\n",
       "</style>\n",
       "<table border=\"1\" class=\"dataframe\">\n",
       "  <thead>\n",
       "    <tr style=\"text-align: right;\">\n",
       "      <th></th>\n",
       "      <th>PLAYER_ID</th>\n",
       "      <th>PLAYER_NAME</th>\n",
       "      <th>scoring_average</th>\n",
       "      <th>SG_OTT</th>\n",
       "      <th>SG_APP</th>\n",
       "      <th>SG_ATG</th>\n",
       "      <th>SG_PUTTING</th>\n",
       "    </tr>\n",
       "  </thead>\n",
       "  <tbody>\n",
       "    <tr>\n",
       "      <th>30</th>\n",
       "      <td>29478</td>\n",
       "      <td>Kevin Kisner</td>\n",
       "      <td>73.556</td>\n",
       "      <td>-1.053</td>\n",
       "      <td>-0.73</td>\n",
       "      <td>-0.605</td>\n",
       "      <td>0.105</td>\n",
       "    </tr>\n",
       "  </tbody>\n",
       "</table>\n",
       "</div>"
      ],
      "text/plain": [
       "    PLAYER_ID   PLAYER_NAME  scoring_average  SG_OTT  SG_APP  SG_ATG  \\\n",
       "30      29478  Kevin Kisner           73.556  -1.053   -0.73  -0.605   \n",
       "\n",
       "    SG_PUTTING  \n",
       "30       0.105  "
      ]
     },
     "execution_count": 19,
     "metadata": {},
     "output_type": "execute_result"
    }
   ],
   "source": [
    "df[(df.scoring_average>max_scoring_average)]"
   ]
  },
  {
   "cell_type": "markdown",
   "metadata": {},
   "source": [
    "There may be a few outliers, I am going to leave them in for now because we already don't have a ton of data "
   ]
  },
  {
   "cell_type": "code",
   "execution_count": 24,
   "metadata": {},
   "outputs": [
    {
     "data": {
      "text/html": [
       "<div>\n",
       "<style scoped>\n",
       "    .dataframe tbody tr th:only-of-type {\n",
       "        vertical-align: middle;\n",
       "    }\n",
       "\n",
       "    .dataframe tbody tr th {\n",
       "        vertical-align: top;\n",
       "    }\n",
       "\n",
       "    .dataframe thead th {\n",
       "        text-align: right;\n",
       "    }\n",
       "</style>\n",
       "<table border=\"1\" class=\"dataframe\">\n",
       "  <thead>\n",
       "    <tr style=\"text-align: right;\">\n",
       "      <th></th>\n",
       "      <th>SG_OTT</th>\n",
       "      <th>SG_APP</th>\n",
       "      <th>SG_ATG</th>\n",
       "      <th>SG_PUTTING</th>\n",
       "    </tr>\n",
       "  </thead>\n",
       "  <tbody>\n",
       "    <tr>\n",
       "      <th>0</th>\n",
       "      <td>0.012</td>\n",
       "      <td>0.126</td>\n",
       "      <td>0.013</td>\n",
       "      <td>-0.098</td>\n",
       "    </tr>\n",
       "    <tr>\n",
       "      <th>1</th>\n",
       "      <td>-0.781</td>\n",
       "      <td>-0.372</td>\n",
       "      <td>0.630</td>\n",
       "      <td>0.758</td>\n",
       "    </tr>\n",
       "    <tr>\n",
       "      <th>2</th>\n",
       "      <td>-0.163</td>\n",
       "      <td>-0.773</td>\n",
       "      <td>0.065</td>\n",
       "      <td>0.264</td>\n",
       "    </tr>\n",
       "    <tr>\n",
       "      <th>3</th>\n",
       "      <td>-0.127</td>\n",
       "      <td>-1.137</td>\n",
       "      <td>0.185</td>\n",
       "      <td>0.221</td>\n",
       "    </tr>\n",
       "    <tr>\n",
       "      <th>4</th>\n",
       "      <td>0.300</td>\n",
       "      <td>-0.388</td>\n",
       "      <td>0.017</td>\n",
       "      <td>-0.686</td>\n",
       "    </tr>\n",
       "  </tbody>\n",
       "</table>\n",
       "</div>"
      ],
      "text/plain": [
       "   SG_OTT  SG_APP  SG_ATG  SG_PUTTING\n",
       "0   0.012   0.126   0.013      -0.098\n",
       "1  -0.781  -0.372   0.630       0.758\n",
       "2  -0.163  -0.773   0.065       0.264\n",
       "3  -0.127  -1.137   0.185       0.221\n",
       "4   0.300  -0.388   0.017      -0.686"
      ]
     },
     "execution_count": 24,
     "metadata": {},
     "output_type": "execute_result"
    }
   ],
   "source": [
    "X = df.drop(['scoring_average','PLAYER_ID',\"PLAYER_NAME\"],axis='columns')\n",
    "X.head()"
   ]
  },
  {
   "cell_type": "code",
   "execution_count": 25,
   "metadata": {},
   "outputs": [
    {
     "data": {
      "text/plain": [
       "0    71.178\n",
       "1    70.998\n",
       "2    72.090\n",
       "3    71.986\n",
       "4    71.802\n",
       "Name: scoring_average, dtype: float64"
      ]
     },
     "execution_count": 25,
     "metadata": {},
     "output_type": "execute_result"
    }
   ],
   "source": [
    "y = df['scoring_average']\n",
    "y.head()"
   ]
  },
  {
   "cell_type": "code",
   "execution_count": 26,
   "metadata": {},
   "outputs": [],
   "source": [
    "from sklearn.model_selection import train_test_split\n",
    "X_train, X_test, y_train, y_test = train_test_split(X,y,test_size=0.2,random_state=10)"
   ]
  },
  {
   "cell_type": "code",
   "execution_count": 28,
   "metadata": {},
   "outputs": [
    {
     "data": {
      "text/plain": [
       "0.8579846243642086"
      ]
     },
     "execution_count": 28,
     "metadata": {},
     "output_type": "execute_result"
    }
   ],
   "source": [
    "# Build V1 of the model\n",
    "\n",
    "from sklearn.linear_model import LinearRegression\n",
    "model1 = LinearRegression()\n",
    "model1.fit(X_train,y_train)\n",
    "model1.score(X_test,y_test)"
   ]
  },
  {
   "cell_type": "markdown",
   "metadata": {},
   "source": [
    "<h3 style='color:purple'>Use K Fold cross validation to measure accuracy of our LinearRegression model</h3>"
   ]
  },
  {
   "cell_type": "code",
   "execution_count": 29,
   "metadata": {},
   "outputs": [
    {
     "data": {
      "text/plain": [
       "array([0.87130066, 0.88496512, 0.84745276, 0.84725476, 0.8334423 ])"
      ]
     },
     "execution_count": 29,
     "metadata": {},
     "output_type": "execute_result"
    }
   ],
   "source": [
    "from sklearn.model_selection import ShuffleSplit\n",
    "from sklearn.model_selection import cross_val_score\n",
    "\n",
    "cv = ShuffleSplit(n_splits=5, test_size=0.2, random_state=0)\n",
    "\n",
    "cross_val_score(LinearRegression(), X, y, cv=cv)"
   ]
  },
  {
   "cell_type": "markdown",
   "metadata": {},
   "source": [
    "#### In 5 iterations we get a score above 80% all the time. This is pretty good, but let's also test few other algorithms for regression to see if we can get even better score. \n",
    "\n",
    "#### We will use GridSearchCV for this purpose"
   ]
  },
  {
   "cell_type": "code",
   "execution_count": 30,
   "metadata": {},
   "outputs": [],
   "source": [
    "from sklearn.preprocessing import StandardScaler\n",
    "from sklearn.pipeline import Pipeline\n",
    "from sklearn.linear_model import LinearRegression"
   ]
  },
  {
   "cell_type": "code",
   "execution_count": 31,
   "metadata": {},
   "outputs": [],
   "source": [
    "pipeline = Pipeline([\n",
    "    ('scaler', StandardScaler()),\n",
    "    ('linear_regression', LinearRegression())\n",
    "])"
   ]
  },
  {
   "cell_type": "code",
   "execution_count": 33,
   "metadata": {},
   "outputs": [
    {
     "name": "stderr",
     "output_type": "stream",
     "text": [
      "/Library/Frameworks/Python.framework/Versions/3.11/lib/python3.11/site-packages/sklearn/model_selection/_validation.py:547: FitFailedWarning: \n",
      "10 fits failed out of a total of 20.\n",
      "The score on these train-test partitions for these parameters will be set to nan.\n",
      "If these failures are not expected, you can try to debug them by setting error_score='raise'.\n",
      "\n",
      "Below are more details about the failures:\n",
      "--------------------------------------------------------------------------------\n",
      "10 fits failed with the following error:\n",
      "Traceback (most recent call last):\n",
      "  File \"/Library/Frameworks/Python.framework/Versions/3.11/lib/python3.11/site-packages/sklearn/model_selection/_validation.py\", line 895, in _fit_and_score\n",
      "    estimator.fit(X_train, y_train, **fit_params)\n",
      "  File \"/Library/Frameworks/Python.framework/Versions/3.11/lib/python3.11/site-packages/sklearn/base.py\", line 1467, in wrapper\n",
      "    estimator._validate_params()\n",
      "  File \"/Library/Frameworks/Python.framework/Versions/3.11/lib/python3.11/site-packages/sklearn/base.py\", line 666, in _validate_params\n",
      "    validate_parameter_constraints(\n",
      "  File \"/Library/Frameworks/Python.framework/Versions/3.11/lib/python3.11/site-packages/sklearn/utils/_param_validation.py\", line 95, in validate_parameter_constraints\n",
      "    raise InvalidParameterError(\n",
      "sklearn.utils._param_validation.InvalidParameterError: The 'criterion' parameter of DecisionTreeRegressor must be a str among {'friedman_mse', 'poisson', 'absolute_error', 'squared_error'}. Got 'mse' instead.\n",
      "\n",
      "  warnings.warn(some_fits_failed_message, FitFailedWarning)\n",
      "/Library/Frameworks/Python.framework/Versions/3.11/lib/python3.11/site-packages/sklearn/model_selection/_search.py:1051: UserWarning: One or more of the test scores are non-finite: [       nan        nan 0.44848423 0.37124999]\n",
      "  warnings.warn(\n"
     ]
    },
    {
     "data": {
      "text/html": [
       "<div>\n",
       "<style scoped>\n",
       "    .dataframe tbody tr th:only-of-type {\n",
       "        vertical-align: middle;\n",
       "    }\n",
       "\n",
       "    .dataframe tbody tr th {\n",
       "        vertical-align: top;\n",
       "    }\n",
       "\n",
       "    .dataframe thead th {\n",
       "        text-align: right;\n",
       "    }\n",
       "</style>\n",
       "<table border=\"1\" class=\"dataframe\">\n",
       "  <thead>\n",
       "    <tr style=\"text-align: right;\">\n",
       "      <th></th>\n",
       "      <th>model</th>\n",
       "      <th>best_score</th>\n",
       "      <th>best_params</th>\n",
       "    </tr>\n",
       "  </thead>\n",
       "  <tbody>\n",
       "    <tr>\n",
       "      <th>0</th>\n",
       "      <td>linear_regression</td>\n",
       "      <td>0.856883</td>\n",
       "      <td>{'linear_regression__fit_intercept': True, 'li...</td>\n",
       "    </tr>\n",
       "    <tr>\n",
       "      <th>1</th>\n",
       "      <td>lasso</td>\n",
       "      <td>-0.047975</td>\n",
       "      <td>{'alpha': 1, 'selection': 'random'}</td>\n",
       "    </tr>\n",
       "    <tr>\n",
       "      <th>2</th>\n",
       "      <td>decision_tree</td>\n",
       "      <td>0.448484</td>\n",
       "      <td>{'criterion': 'friedman_mse', 'splitter': 'best'}</td>\n",
       "    </tr>\n",
       "  </tbody>\n",
       "</table>\n",
       "</div>"
      ],
      "text/plain": [
       "               model  best_score  \\\n",
       "0  linear_regression    0.856883   \n",
       "1              lasso   -0.047975   \n",
       "2      decision_tree    0.448484   \n",
       "\n",
       "                                         best_params  \n",
       "0  {'linear_regression__fit_intercept': True, 'li...  \n",
       "1                {'alpha': 1, 'selection': 'random'}  \n",
       "2  {'criterion': 'friedman_mse', 'splitter': 'best'}  "
      ]
     },
     "execution_count": 33,
     "metadata": {},
     "output_type": "execute_result"
    }
   ],
   "source": [
    "from sklearn.model_selection import GridSearchCV\n",
    "\n",
    "from sklearn.linear_model import Lasso\n",
    "from sklearn.tree import DecisionTreeRegressor\n",
    "\n",
    "def find_best_model_using_gridsearchcv(X,y):\n",
    "    algos = {\n",
    "        'linear_regression': {\n",
    "        'model': pipeline,\n",
    "        'params': {\n",
    "            'linear_regression__fit_intercept': [True, False],\n",
    "            'linear_regression__positive': [True, False]\n",
    "        }\n",
    "        },\n",
    "        'lasso': {\n",
    "            'model': Lasso(),\n",
    "            'params': {\n",
    "                'alpha': [1,2],\n",
    "                'selection': ['random', 'cyclic']\n",
    "            }\n",
    "        },\n",
    "        'decision_tree': {\n",
    "            'model': DecisionTreeRegressor(),\n",
    "            'params': {\n",
    "                'criterion' : ['mse','friedman_mse'],\n",
    "                'splitter': ['best','random']\n",
    "            }\n",
    "        }\n",
    "    }\n",
    "    scores = []\n",
    "    cv = ShuffleSplit(n_splits=5, test_size=0.2, random_state=0)\n",
    "    for algo_name, config in algos.items():\n",
    "        gs =  GridSearchCV(config['model'], config['params'], cv=cv, return_train_score=False)\n",
    "        gs.fit(X,y)\n",
    "        scores.append({\n",
    "            'model': algo_name,\n",
    "            'best_score': gs.best_score_,\n",
    "            'best_params': gs.best_params_\n",
    "        })\n",
    "\n",
    "    return pd.DataFrame(scores,columns=['model','best_score','best_params'])\n",
    "\n",
    "find_best_model_using_gridsearchcv(X,y)"
   ]
  },
  {
   "cell_type": "markdown",
   "metadata": {},
   "source": [
    "**Based on above results, LinearRegression is the only one with a decent score. We will use that!**"
   ]
  },
  {
   "cell_type": "markdown",
   "metadata": {},
   "source": [
    "<h3 style='color:purple'>Let's Test Our Model Now!</h3>"
   ]
  },
  {
   "cell_type": "code",
   "execution_count": 35,
   "metadata": {},
   "outputs": [],
   "source": [
    "def predict_scoring_avg(sc_ott, sg_app, sg_atg, sg_putting):    \n",
    "    \n",
    "    x = np.zeros(len(X.columns))\n",
    "    x[0] = sc_ott\n",
    "    x[1] = sg_app\n",
    "    x[2] = sg_atg\n",
    "    x[3] = sg_putting\n",
    "\n",
    "    return model1.predict([x])[0]"
   ]
  },
  {
   "cell_type": "code",
   "execution_count": 36,
   "metadata": {},
   "outputs": [
    {
     "name": "stderr",
     "output_type": "stream",
     "text": [
      "/Library/Frameworks/Python.framework/Versions/3.11/lib/python3.11/site-packages/sklearn/base.py:493: UserWarning: X does not have valid feature names, but LinearRegression was fitted with feature names\n",
      "  warnings.warn(\n"
     ]
    },
    {
     "data": {
      "text/plain": [
       "71.31440694283292"
      ]
     },
     "execution_count": 36,
     "metadata": {},
     "output_type": "execute_result"
    }
   ],
   "source": [
    "predict_scoring_avg(-0.5,1.0, 0.5, -1)"
   ]
  },
  {
   "cell_type": "code",
   "execution_count": 37,
   "metadata": {},
   "outputs": [
    {
     "name": "stderr",
     "output_type": "stream",
     "text": [
      "/Library/Frameworks/Python.framework/Versions/3.11/lib/python3.11/site-packages/sklearn/base.py:493: UserWarning: X does not have valid feature names, but LinearRegression was fitted with feature names\n",
      "  warnings.warn(\n"
     ]
    },
    {
     "data": {
      "text/plain": [
       "70.15148630332642"
      ]
     },
     "execution_count": 37,
     "metadata": {},
     "output_type": "execute_result"
    }
   ],
   "source": [
    "predict_scoring_avg(0.5,1.0, 0, 0)"
   ]
  },
  {
   "cell_type": "code",
   "execution_count": 38,
   "metadata": {},
   "outputs": [
    {
     "name": "stderr",
     "output_type": "stream",
     "text": [
      "/Library/Frameworks/Python.framework/Versions/3.11/lib/python3.11/site-packages/sklearn/base.py:493: UserWarning: X does not have valid feature names, but LinearRegression was fitted with feature names\n",
      "  warnings.warn(\n"
     ]
    },
    {
     "data": {
      "text/plain": [
       "72.48985032259382"
      ]
     },
     "execution_count": 38,
     "metadata": {},
     "output_type": "execute_result"
    }
   ],
   "source": [
    "predict_scoring_avg(-0.5,-1.0, 0, 0)"
   ]
  },
  {
   "cell_type": "markdown",
   "metadata": {},
   "source": [
    "<h3 style='color:purple'>Export the tested model to a pickle file</h3>"
   ]
  },
  {
   "cell_type": "code",
   "execution_count": 39,
   "metadata": {},
   "outputs": [],
   "source": [
    "import pickle\n",
    "with open('scoring_avg_model.pickle','wb') as f:\n",
    "    pickle.dump(model1,f)"
   ]
  },
  {
   "cell_type": "markdown",
   "metadata": {},
   "source": [
    "<h3 style='color:purple'>Export location and column information to a file that will be useful later on in our prediction application</h3>"
   ]
  },
  {
   "cell_type": "code",
   "execution_count": 40,
   "metadata": {},
   "outputs": [],
   "source": [
    "import json\n",
    "columns = {\n",
    "    'data_columns' : [col.lower() for col in X.columns]\n",
    "}\n",
    "with open(\"columns.json\",\"w\") as f:\n",
    "    f.write(json.dumps(columns))"
   ]
  }
 ],
 "metadata": {
  "kernelspec": {
   "display_name": "Python 3",
   "language": "python",
   "name": "python3"
  },
  "language_info": {
   "codemirror_mode": {
    "name": "ipython",
    "version": 3
   },
   "file_extension": ".py",
   "mimetype": "text/x-python",
   "name": "python",
   "nbconvert_exporter": "python",
   "pygments_lexer": "ipython3",
   "version": "3.11.4"
  }
 },
 "nbformat": 4,
 "nbformat_minor": 2
}
