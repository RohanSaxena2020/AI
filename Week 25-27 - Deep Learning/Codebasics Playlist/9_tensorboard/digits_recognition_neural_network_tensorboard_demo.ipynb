{
 "cells": [
  {
   "cell_type": "markdown",
   "metadata": {},
   "source": [
    "<h2 style=\"color:blue\" align=\"center\">Tensorboard demo using handwritten digits classification using neural network</h2>"
   ]
  },
  {
   "cell_type": "markdown",
   "metadata": {},
   "source": [
    "In this notebook we will classify handwritten digits using a simple neural network which has only input and output layers. We will than add a hidden layer and see how the performance of the model improves"
   ]
  },
  {
   "cell_type": "code",
   "execution_count": 1,
   "metadata": {},
   "outputs": [],
   "source": [
    "import tensorflow as tf\n",
    "from tensorflow import keras\n",
    "import matplotlib.pyplot as plt\n",
    "%matplotlib inline\n",
    "import numpy as np"
   ]
  },
  {
   "cell_type": "code",
   "execution_count": 2,
   "metadata": {},
   "outputs": [],
   "source": [
    "(X_train, y_train) , (X_test, y_test) = keras.datasets.mnist.load_data()"
   ]
  },
  {
   "cell_type": "code",
   "execution_count": 4,
   "metadata": {},
   "outputs": [
    {
     "data": {
      "text/plain": [
       "60000"
      ]
     },
     "execution_count": 4,
     "metadata": {},
     "output_type": "execute_result"
    }
   ],
   "source": [
    "len(X_train)"
   ]
  },
  {
   "cell_type": "code",
   "execution_count": 5,
   "metadata": {},
   "outputs": [
    {
     "data": {
      "text/plain": [
       "10000"
      ]
     },
     "execution_count": 5,
     "metadata": {},
     "output_type": "execute_result"
    }
   ],
   "source": [
    "len(X_test)"
   ]
  },
  {
   "cell_type": "code",
   "execution_count": 6,
   "metadata": {},
   "outputs": [
    {
     "data": {
      "text/plain": [
       "(28, 28)"
      ]
     },
     "execution_count": 6,
     "metadata": {},
     "output_type": "execute_result"
    }
   ],
   "source": [
    "X_train[0].shape"
   ]
  },
  {
   "cell_type": "code",
   "execution_count": 7,
   "metadata": {},
   "outputs": [
    {
     "data": {
      "text/plain": [
       "<matplotlib.image.AxesImage at 0x2a45fbe90>"
      ]
     },
     "execution_count": 7,
     "metadata": {},
     "output_type": "execute_result"
    },
    {
     "data": {
      "image/png": "[encoded data removed]",
      "text/plain": [
       "<Figure size 480x480 with 1 Axes>"
      ]
     },
     "metadata": {},
     "output_type": "display_data"
    }
   ],
   "source": [
    "plt.matshow(X_train[0])"
   ]
  },
  {
   "cell_type": "code",
   "execution_count": 8,
   "metadata": {},
   "outputs": [
    {
     "data": {
      "text/plain": [
       "5"
      ]
     },
     "execution_count": 8,
     "metadata": {},
     "output_type": "execute_result"
    }
   ],
   "source": [
    "y_train[0]"
   ]
  },
  {
   "cell_type": "code",
   "execution_count": 9,
   "metadata": {},
   "outputs": [],
   "source": [
    "X_train = X_train / 255\n",
    "X_test = X_test / 255"
   ]
  },
  {
   "cell_type": "code",
   "execution_count": 10,
   "metadata": {},
   "outputs": [],
   "source": [
    "X_train_flattened = X_train.reshape(len(X_train), 28*28)\n",
    "X_test_flattened = X_test.reshape(len(X_test), 28*28)"
   ]
  },
  {
   "cell_type": "code",
   "execution_count": 11,
   "metadata": {},
   "outputs": [
    {
     "data": {
      "text/plain": [
       "(60000, 784)"
      ]
     },
     "execution_count": 11,
     "metadata": {},
     "output_type": "execute_result"
    }
   ],
   "source": [
    "X_train_flattened.shape"
   ]
  },
  {
   "cell_type": "markdown",
   "metadata": {},
   "source": [
    "<h3 style='color:purple'>Using Flatten layer so that we don't have to call .reshape on input dataset</h3>"
   ]
  },
  {
   "cell_type": "code",
   "execution_count": 16,
   "metadata": {
    "scrolled": false
   },
   "outputs": [
    {
     "name": "stderr",
     "output_type": "stream",
     "text": [
      "/Library/Frameworks/Python.framework/Versions/3.11/lib/python3.11/site-packages/keras/src/layers/reshaping/flatten.py:37: UserWarning: Do not pass an `input_shape`/`input_dim` argument to a layer. When using Sequential models, prefer using an `Input(shape)` object as the first layer in the model instead.\n",
      "  super().__init__(**kwargs)\n"
     ]
    },
    {
     "name": "stdout",
     "output_type": "stream",
     "text": [
      "Epoch 1/5\n",
      "\u001b[1m1875/1875\u001b[0m \u001b[32m━━━━━━━━━━━━━━━━━━━━\u001b[0m\u001b[37m\u001b[0m \u001b[1m2s\u001b[0m 749us/step - accuracy: 0.8703 - loss: 0.4542\n",
      "Epoch 2/5\n",
      "\u001b[1m1875/1875\u001b[0m \u001b[32m━━━━━━━━━━━━━━━━━━━━\u001b[0m\u001b[37m\u001b[0m \u001b[1m1s\u001b[0m 723us/step - accuracy: 0.9614 - loss: 0.1321\n",
      "Epoch 3/5\n",
      "\u001b[1m1875/1875\u001b[0m \u001b[32m━━━━━━━━━━━━━━━━━━━━\u001b[0m\u001b[37m\u001b[0m \u001b[1m1s\u001b[0m 725us/step - accuracy: 0.9745 - loss: 0.0882\n",
      "Epoch 4/5\n",
      "\u001b[1m1875/1875\u001b[0m \u001b[32m━━━━━━━━━━━━━━━━━━━━\u001b[0m\u001b[37m\u001b[0m \u001b[1m1s\u001b[0m 743us/step - accuracy: 0.9806 - loss: 0.0665\n",
      "Epoch 5/5\n",
      "\u001b[1m1875/1875\u001b[0m \u001b[32m━━━━━━━━━━━━━━━━━━━━\u001b[0m\u001b[37m\u001b[0m \u001b[1m1s\u001b[0m 724us/step - accuracy: 0.9852 - loss: 0.0501\n"
     ]
    },
    {
     "data": {
      "text/plain": [
       "<keras.src.callbacks.history.History at 0x2a4607d90>"
      ]
     },
     "execution_count": 16,
     "metadata": {},
     "output_type": "execute_result"
    }
   ],
   "source": [
    "model = keras.Sequential([\n",
    "    keras.layers.Flatten(input_shape=(28, 28)),\n",
    "    keras.layers.Dense(100, activation='relu'),\n",
    "    keras.layers.Dense(10, activation='sigmoid')\n",
    "])\n",
    "\n",
    "model.compile(optimizer='adam',\n",
    "              loss='sparse_categorical_crossentropy',\n",
    "              metrics=['accuracy'])\n",
    "\n",
    "tb_callback = tf.keras.callbacks.TensorBoard(log_dir=\"logs/\", histogram_freq=1)\n",
    "\n",
    "model.fit(X_train, y_train, epochs=5, callbacks=[tb_callback])"
   ]
  },
  {
   "cell_type": "code",
   "execution_count": 13,
   "metadata": {},
   "outputs": [
    {
     "data": {
      "text/html": [
       "\n",
       "      <iframe id=\"tensorboard-frame-fac79ed24a366df2\" width=\"100%\" height=\"800\" frameborder=\"0\">\n",
       "      </iframe>\n",
       "      <script>\n",
       "        (function() {\n",
       "          const frame = document.getElementById(\"tensorboard-frame-fac79ed24a366df2\");\n",
       "          const url = new URL(\"/\", window.location);\n",
       "          const port = 6006;\n",
       "          if (port) {\n",
       "            url.port = port;\n",
       "          }\n",
       "          frame.src = url;\n",
       "        })();\n",
       "      </script>\n",
       "    "
      ],
      "text/plain": [
       "<IPython.core.display.HTML object>"
      ]
     },
     "metadata": {},
     "output_type": "display_data"
    }
   ],
   "source": [
    "%load_ext tensorboard\n",
    "%tensorboard --logdir logs/fit"
   ]
  },
  {
   "cell_type": "markdown",
   "metadata": {},
   "source": [
    "Either run above inline magic or go to git bash or your command prompt and type below to run it,\n",
    "`tensorboard --logdir logs/`\n",
    "This will launch tensorboard at this url which you can open in your browser `http://localhost:6006/`"
   ]
  },
  {
   "cell_type": "code",
   "execution_count": 15,
   "metadata": {},
   "outputs": [
    {
     "data": {
      "text/plain": [
       "[array([[ 0.01736309,  0.01222698,  0.03788414, ..., -0.05785966,\n",
       "         -0.04377536,  0.0611714 ],\n",
       "        [ 0.01093372,  0.0416188 ,  0.0081531 , ...,  0.04795577,\n",
       "         -0.01142155, -0.03839046],\n",
       "        [ 0.03881078, -0.06063964,  0.0583518 , ..., -0.01887678,\n",
       "          0.05148171, -0.05469289],\n",
       "        ...,\n",
       "        [ 0.036289  , -0.05733535,  0.05376881, ..., -0.06777781,\n",
       "          0.06040008,  0.04317592],\n",
       "        [-0.07699831,  0.07235886,  0.0353926 , ...,  0.01751722,\n",
       "         -0.07883079,  0.07291743],\n",
       "        [ 0.07624812, -0.06297777, -0.05590244, ..., -0.07757115,\n",
       "          0.02029078,  0.07493223]], dtype=float32),\n",
       " array([ 3.84443812e-02,  4.48189378e-02,  3.95642519e-02,  1.12305172e-02,\n",
       "         9.77831855e-02, -6.35947334e-03, -7.69884959e-02, -8.05204511e-02,\n",
       "         3.05531528e-02,  1.68635771e-01, -3.61088775e-02, -3.88093777e-02,\n",
       "        -4.32964861e-02,  5.25451228e-02, -7.53015652e-02, -1.75294038e-02,\n",
       "        -7.79273920e-03,  3.02819931e-03, -9.56705585e-02, -1.89586028e-01,\n",
       "         1.64598733e-01,  2.93188661e-01,  3.99905816e-02,  6.88630790e-02,\n",
       "        -5.62820546e-02, -3.30986641e-02,  3.37646492e-02, -1.32420629e-01,\n",
       "         1.23780333e-01,  3.33703570e-02,  7.16384947e-02,  2.24110410e-01,\n",
       "         8.20779502e-02, -6.03166968e-02, -3.15841362e-02, -1.96494967e-01,\n",
       "         5.50058074e-02,  8.25520456e-02, -8.39300305e-02, -1.15421481e-01,\n",
       "        -5.36507480e-02,  2.64068425e-01, -1.28538594e-01, -1.18205011e-01,\n",
       "         2.08872301e-03, -1.18277401e-01,  1.31879449e-01,  1.04911879e-01,\n",
       "        -8.90763104e-02, -1.13811735e-02,  2.54884548e-02,  2.48881042e-01,\n",
       "         1.06467485e-01,  9.45702940e-03, -7.42369369e-02, -2.37744469e-02,\n",
       "         3.69879417e-02,  1.12684746e-03,  6.68825060e-02,  6.60273656e-02,\n",
       "        -1.96388457e-02, -5.22779264e-02, -3.77316354e-03,  2.93937065e-02,\n",
       "         8.16155747e-02,  5.51869832e-02,  1.88058224e-02,  1.65942281e-01,\n",
       "        -2.11179964e-02, -2.48676911e-02, -5.55689028e-03,  6.00973330e-02,\n",
       "         2.03556597e-01,  4.42948602e-02,  7.73266703e-02,  4.08430398e-02,\n",
       "         6.40257495e-03,  9.98726394e-03, -9.97367203e-02,  6.74232049e-03,\n",
       "        -7.00185224e-02, -1.03700623e-01,  2.40380749e-01,  4.94032577e-02,\n",
       "        -3.15947235e-02, -5.53139262e-02,  1.27592355e-01,  8.61056149e-03,\n",
       "         5.27072288e-02,  4.26321067e-02,  5.72276711e-02, -1.45154431e-01,\n",
       "        -1.14592585e-05, -6.24214746e-02,  1.80688843e-01,  4.34268527e-02,\n",
       "         1.90378204e-01,  8.27657729e-02, -2.36231126e-02,  5.35458401e-02],\n",
       "       dtype=float32),\n",
       " array([[ 2.15300381e-01,  1.97601855e-01,  5.34600404e-04,\n",
       "          8.54135901e-02, -7.62606025e-01,  1.80703551e-01,\n",
       "          1.43477187e-01, -2.28866100e-01,  1.08466595e-01,\n",
       "         -6.00396954e-02],\n",
       "        [-2.13035032e-01, -4.42396514e-02,  1.43565997e-01,\n",
       "          6.85206205e-02,  1.55145496e-01, -3.86031084e-02,\n",
       "          4.49643731e-02, -1.30750000e-01,  1.97470173e-01,\n",
       "         -6.18395917e-02],\n",
       "        [ 1.70208961e-02, -6.04562201e-02,  4.11712080e-01,\n",
       "         -2.87811488e-01,  2.77196884e-01, -1.56312495e-01,\n",
       "          1.65458560e-01,  1.89489275e-01,  3.57303441e-01,\n",
       "         -9.02610540e-01],\n",
       "        [ 2.86821455e-01, -2.55187869e-01,  1.73287049e-01,\n",
       "          2.11364344e-01, -8.82501245e-01,  2.51064181e-01,\n",
       "         -2.96996891e-01, -2.66150564e-01, -4.86205071e-01,\n",
       "          1.59000248e-01],\n",
       "        [-1.52702257e-01,  1.07805647e-01, -5.16830504e-01,\n",
       "          9.70358774e-02,  2.31922656e-01,  1.65669456e-01,\n",
       "         -5.16215801e-01,  1.23195089e-01, -1.71658754e-01,\n",
       "          3.00181538e-01],\n",
       "        [ 1.34654284e-01, -3.25142354e-01,  2.31043443e-01,\n",
       "          1.54462293e-01,  2.96354324e-01, -6.34424627e-01,\n",
       "         -3.35004628e-02,  1.50576428e-01, -1.43594846e-01,\n",
       "         -3.07102799e-01],\n",
       "        [ 2.02211574e-01,  4.69133072e-02,  1.87188953e-01,\n",
       "          2.03368396e-01, -6.82856917e-01,  1.92381859e-01,\n",
       "          5.84704541e-02,  2.63496209e-03,  1.37457311e-01,\n",
       "         -2.07459465e-01],\n",
       "        [ 3.22458655e-01,  8.66283104e-02,  1.70830637e-01,\n",
       "         -6.11789897e-02, -2.03201607e-01, -1.11587055e-01,\n",
       "          2.08985955e-01, -1.36040613e-01,  1.67508423e-01,\n",
       "         -4.43456531e-01],\n",
       "        [-4.17755067e-01,  4.24865574e-01,  1.73209012e-01,\n",
       "          2.79170752e-01,  1.09866145e-03, -5.92694521e-01,\n",
       "         -2.60908842e-01,  2.01135755e-01, -2.99255043e-01,\n",
       "          1.43565372e-01],\n",
       "        [ 3.73063572e-02,  4.84900326e-02, -4.69572723e-01,\n",
       "         -4.23502177e-03,  6.39912933e-02,  2.93442104e-02,\n",
       "          1.35342151e-01,  2.09991872e-01, -5.63631915e-02,\n",
       "         -4.18370545e-01],\n",
       "        [ 1.09211549e-01,  3.65054002e-03,  1.47043228e-01,\n",
       "         -5.47836244e-01,  1.18271768e-01, -5.94341815e-01,\n",
       "         -1.08593091e-01,  2.56843925e-01, -2.31782168e-01,\n",
       "          7.24301264e-02],\n",
       "        [-1.76269412e-01,  6.73396230e-01, -3.80406618e-01,\n",
       "         -4.24261361e-01, -1.02205917e-01, -4.15735006e-01,\n",
       "         -1.86311737e-01, -6.85961843e-02, -1.60000771e-01,\n",
       "          1.65307537e-01],\n",
       "        [-5.13976395e-01,  1.34718508e-01,  3.81463692e-02,\n",
       "          1.11877136e-01,  8.86440501e-02, -1.11301623e-01,\n",
       "         -1.27062529e-01,  1.95985049e-01,  1.96107775e-01,\n",
       "         -7.99112394e-02],\n",
       "        [-1.68011431e-02, -3.19260836e-01,  1.44875780e-01,\n",
       "         -1.42348066e-01, -6.90510571e-01,  2.65920341e-01,\n",
       "          3.45241278e-01, -3.33460122e-01,  4.54702824e-02,\n",
       "          1.62147537e-01],\n",
       "        [ 2.65693665e-01,  3.10221016e-01, -3.97541881e-01,\n",
       "         -1.76084310e-01,  2.19635278e-01, -3.02886754e-01,\n",
       "          1.83545783e-01,  1.98140174e-01, -2.93053329e-01,\n",
       "         -1.12130821e-01],\n",
       "        [ 2.12033227e-01, -3.78970541e-02,  2.15172380e-01,\n",
       "         -4.04370613e-02,  5.25433123e-02, -1.67283863e-02,\n",
       "         -1.16947830e-01, -2.21644398e-02,  1.15813449e-01,\n",
       "         -5.52701615e-02],\n",
       "        [ 2.09376127e-01,  3.48570049e-01, -2.04139084e-01,\n",
       "          9.15274769e-02,  2.59748459e-01,  2.91404650e-02,\n",
       "          1.68862909e-01, -4.10906315e-01, -2.34524205e-01,\n",
       "         -6.71990991e-01],\n",
       "        [-1.74951121e-01, -4.28009838e-01, -2.47060750e-02,\n",
       "          4.20654088e-01, -1.22485034e-01, -3.10629994e-01,\n",
       "         -2.45862678e-01, -1.78396165e-01, -4.52924490e-01,\n",
       "         -3.06328535e-02],\n",
       "        [ 2.28338256e-01, -2.58391261e-01, -1.15343198e-01,\n",
       "          3.49692143e-02, -1.58117950e-01, -5.11682220e-02,\n",
       "         -4.25746590e-02,  1.72510847e-01,  3.59270535e-02,\n",
       "          1.83573514e-01],\n",
       "        [ 1.49769887e-01, -5.79610407e-01,  2.23219562e-02,\n",
       "          2.15990871e-01, -6.13392651e-01, -9.23815519e-02,\n",
       "         -3.39079559e-01, -2.59931684e-01,  1.72216464e-02,\n",
       "          2.21888274e-01],\n",
       "        [-1.84344545e-01,  9.17918906e-02, -9.01540995e-01,\n",
       "         -3.36827010e-01,  1.26269743e-01,  9.19935480e-02,\n",
       "         -9.57503263e-03, -3.84859145e-01,  4.19133110e-03,\n",
       "         -1.06111318e-01],\n",
       "        [-2.35465512e-01,  9.74624455e-02,  2.90137978e-04,\n",
       "         -1.91562071e-01, -5.33238351e-01,  5.45920432e-01,\n",
       "         -3.95892590e-01,  5.91920257e-01, -3.79071087e-01,\n",
       "         -3.76219660e-01],\n",
       "        [-3.60534996e-01, -2.36591220e-01,  3.20233069e-02,\n",
       "          3.09722722e-01,  5.90062216e-02, -4.56202835e-01,\n",
       "          3.68717104e-01,  1.37722611e-01, -2.23302290e-01,\n",
       "          1.81103155e-01],\n",
       "        [-1.60033092e-01, -2.81885892e-01, -2.10666239e-01,\n",
       "         -4.71002698e-01,  1.65600076e-01, -1.50528789e-01,\n",
       "          1.69732153e-01, -1.79981329e-02,  3.05901259e-01,\n",
       "         -1.87594950e-01],\n",
       "        [ 6.82869554e-02,  1.47703752e-01,  2.26240054e-01,\n",
       "          7.35760704e-02, -6.78201854e-01,  3.26666832e-02,\n",
       "         -1.23006240e-01,  3.82548124e-02,  1.61431625e-01,\n",
       "         -1.09751739e-01],\n",
       "        [ 1.94476843e-02, -5.27895212e-01, -1.66539147e-01,\n",
       "          5.89099191e-02, -5.74573517e-01,  1.27572268e-01,\n",
       "         -8.01274657e-01,  1.73635066e-01, -1.06876999e-01,\n",
       "          7.73610547e-02],\n",
       "        [-1.10074999e-02, -3.73279452e-01, -2.69644886e-01,\n",
       "          1.35539278e-01,  6.10952079e-02,  1.62859976e-01,\n",
       "         -7.09670246e-01, -1.99781001e-01,  1.40080005e-01,\n",
       "          2.41469398e-01],\n",
       "        [ 2.11163774e-01,  1.86691701e-01,  1.54729366e-01,\n",
       "          6.39971048e-02, -1.75744787e-01, -1.84237242e-01,\n",
       "          1.69928506e-01,  2.39675999e-01,  1.81857914e-01,\n",
       "         -7.13323712e-01],\n",
       "        [-4.36556756e-01,  2.36532003e-01,  3.08060646e-01,\n",
       "         -7.60002613e-01,  3.30790699e-01,  3.38485241e-02,\n",
       "         -7.28068575e-02,  2.98616320e-01,  1.51876047e-01,\n",
       "         -1.08332984e-01],\n",
       "        [ 2.02250272e-01, -1.59966245e-01,  2.17531413e-01,\n",
       "         -3.32727969e-01, -1.94979489e-01, -7.76904300e-02,\n",
       "          7.03566596e-02, -2.64263332e-01, -1.95295006e-01,\n",
       "         -7.68934935e-02],\n",
       "        [-5.70603311e-01, -1.96241781e-01,  4.29585010e-01,\n",
       "          9.07330774e-03, -3.93117547e-01, -1.06506303e-01,\n",
       "          1.99140817e-01,  3.35253298e-01, -4.12851751e-01,\n",
       "         -3.39795053e-01],\n",
       "        [-4.59063888e-01,  3.37045997e-01,  1.57777205e-01,\n",
       "         -1.93579659e-01,  7.91612789e-02,  1.62631959e-01,\n",
       "         -5.05776525e-01, -1.39033526e-01, -3.96513827e-02,\n",
       "          4.18577582e-01],\n",
       "        [-6.66983426e-01, -2.28940979e-01, -3.75206098e-02,\n",
       "          2.31095314e-01,  1.91538617e-01,  1.91489950e-01,\n",
       "          1.29660562e-01, -2.19273880e-01,  5.81351519e-02,\n",
       "          4.18379605e-02],\n",
       "        [-1.84106126e-01, -4.60208207e-02,  6.28021732e-02,\n",
       "          1.90870717e-01, -3.02749332e-02, -1.69357449e-01,\n",
       "          2.42932990e-01, -1.57473803e-01,  1.42492846e-01,\n",
       "         -1.08973145e-01],\n",
       "        [-9.62222591e-02, -3.55280697e-01, -1.66789994e-01,\n",
       "          3.86838876e-02,  1.44044250e-01, -1.28064111e-01,\n",
       "          1.27373859e-02, -1.66223496e-01,  1.37414411e-01,\n",
       "          7.33217597e-02],\n",
       "        [ 1.62607580e-01, -4.66659553e-02,  2.99534738e-01,\n",
       "          1.63164914e-01, -1.62772343e-01, -3.81175637e-01,\n",
       "         -4.12825137e-01, -3.05590332e-01,  1.87095150e-01,\n",
       "          1.40363714e-02],\n",
       "        [ 3.29751112e-02, -7.57414579e-01, -2.89930671e-01,\n",
       "         -4.30810720e-01,  2.36557528e-01,  2.26250708e-01,\n",
       "         -2.80138757e-02, -2.99930900e-01,  1.41394138e-01,\n",
       "          8.67145061e-02],\n",
       "        [-3.46921802e-01,  1.19505785e-01,  2.91055828e-01,\n",
       "         -4.28019255e-01, -3.86642180e-02, -7.07404548e-03,\n",
       "          1.53701091e-02, -1.34039819e-01,  5.90302460e-02,\n",
       "         -1.53399017e-02],\n",
       "        [ 2.32824787e-01,  1.23938017e-01, -1.86877534e-01,\n",
       "          5.93884662e-02,  2.28100359e-01, -6.62172064e-02,\n",
       "          4.32416111e-01,  4.36222069e-02, -6.41642511e-01,\n",
       "          6.81957453e-02],\n",
       "        [ 2.95551509e-01, -2.47522056e-01, -8.26075301e-02,\n",
       "          1.34658769e-01,  2.00696126e-01, -4.93865646e-02,\n",
       "          2.00405777e-01, -3.59015375e-01,  1.42527774e-01,\n",
       "          1.20502353e-01],\n",
       "        [ 9.80285630e-02, -3.10273081e-01, -1.31397024e-01,\n",
       "          1.21707194e-01, -3.83899137e-02,  1.45765170e-02,\n",
       "          4.82092500e-02, -1.10347822e-01,  2.25524619e-01,\n",
       "          4.27702069e-02],\n",
       "        [ 7.15876594e-02,  2.53116935e-01,  3.87536585e-01,\n",
       "         -4.55781296e-02, -1.24635771e-01,  6.00106120e-01,\n",
       "          9.36395079e-02, -3.58172983e-01, -4.18897420e-01,\n",
       "         -5.59127450e-01],\n",
       "        [ 3.88820112e-01, -5.85839033e-01,  2.37041622e-01,\n",
       "         -3.74444276e-01, -1.21095665e-01, -6.63670003e-01,\n",
       "         -9.12078097e-02,  8.17031860e-02,  1.68717653e-01,\n",
       "          2.65199840e-01],\n",
       "        [-2.27335021e-02, -1.40453383e-01, -2.10593075e-01,\n",
       "          2.48176917e-01, -7.70079970e-01,  2.45054871e-01,\n",
       "          4.43080336e-01, -6.10182047e-01,  1.06382370e-01,\n",
       "          1.05942879e-02],\n",
       "        [-4.90671784e-01,  2.03230418e-03, -1.25488445e-01,\n",
       "          2.63273776e-01,  3.77236873e-01, -4.57986265e-01,\n",
       "         -7.09794581e-01, -2.69617349e-01,  8.86601582e-02,\n",
       "          2.93367803e-01],\n",
       "        [ 2.40441397e-01,  2.00760394e-01,  1.30966783e-01,\n",
       "          6.00077175e-02,  7.88422581e-03, -7.15775073e-01,\n",
       "         -1.36211455e-01,  2.51756757e-01,  2.25501031e-01,\n",
       "         -3.60240228e-02],\n",
       "        [-1.90956458e-01,  2.26962566e-01, -2.63571352e-01,\n",
       "         -6.86436534e-01,  3.56157809e-01,  2.25114867e-01,\n",
       "          1.47570893e-01, -3.03435996e-02,  2.80655473e-01,\n",
       "         -7.24601746e-02],\n",
       "        [-5.64004719e-01,  3.72977406e-02,  1.30798146e-01,\n",
       "         -4.03877318e-01,  2.83230513e-01,  1.12774312e-01,\n",
       "          2.42887232e-02,  3.39808017e-01, -3.57535511e-01,\n",
       "         -3.36304426e-01],\n",
       "        [ 2.42069773e-02, -2.21393645e-01,  2.28798136e-01,\n",
       "          2.65594631e-01, -3.73269200e-01,  1.65505186e-01,\n",
       "         -5.16530335e-01, -4.87864725e-02,  2.24591151e-01,\n",
       "          3.81481975e-01],\n",
       "        [-3.39011878e-01,  2.34412000e-01, -1.57690361e-01,\n",
       "          1.90962479e-01, -1.47190720e-01,  2.31263787e-01,\n",
       "         -5.04827142e-01,  2.76851863e-01, -1.09176248e-01,\n",
       "          1.60483532e-02],\n",
       "        [-2.92191684e-01,  5.98084927e-01,  1.28020152e-01,\n",
       "         -8.13984275e-02, -7.97693431e-02,  2.80735612e-01,\n",
       "          8.33003074e-02,  4.53395486e-01, -6.34264588e-01,\n",
       "         -4.43116456e-01],\n",
       "        [ 2.67181724e-01, -8.18747401e-01, -1.29185647e-01,\n",
       "         -3.53718221e-01, -4.34911363e-02,  3.29269350e-01,\n",
       "          9.33761746e-02,  2.14754656e-01, -1.79646850e-01,\n",
       "         -4.75850075e-01],\n",
       "        [-3.81780475e-01,  2.27443278e-02, -4.23791140e-01,\n",
       "          2.17654437e-01,  2.93563932e-01,  2.54873782e-01,\n",
       "         -3.87753397e-01,  3.70902829e-02, -2.30409026e-01,\n",
       "         -2.24157900e-01],\n",
       "        [-1.45585775e-01,  3.05297911e-01,  6.35681003e-02,\n",
       "          1.29419431e-01, -1.10785551e-01, -1.14349820e-01,\n",
       "          2.81245083e-01,  7.58206323e-02, -1.15621723e-02,\n",
       "          1.84792086e-01],\n",
       "        [-4.50450093e-01,  1.07082717e-01,  3.53758395e-01,\n",
       "          1.55058593e-01,  2.61023529e-02,  1.86009511e-01,\n",
       "         -9.68487337e-02,  1.81590289e-01,  1.21377416e-01,\n",
       "         -7.24246740e-01],\n",
       "        [-2.11222976e-01,  1.02317691e-01,  1.07692078e-01,\n",
       "          1.98263377e-02,  1.32019222e-01, -1.83339193e-01,\n",
       "         -1.80811092e-01,  1.52701540e-02,  1.85655281e-01,\n",
       "         -3.30543122e-03],\n",
       "        [-3.40982288e-01, -1.24598429e-01, -2.86552399e-01,\n",
       "         -2.69804329e-01,  1.26710430e-01, -3.63806695e-01,\n",
       "         -2.64716834e-01,  4.57789809e-01, -7.72341788e-02,\n",
       "         -1.99532241e-01],\n",
       "        [ 2.11782813e-01, -1.36332884e-01,  2.49840975e-01,\n",
       "          6.26919642e-02, -1.12862301e+00,  2.48029605e-01,\n",
       "          1.02854565e-01,  4.73454058e-01,  1.31502878e-02,\n",
       "          9.52722207e-02],\n",
       "        [-5.41287243e-01, -1.95537224e-01,  9.63105261e-02,\n",
       "         -2.97401577e-01, -8.97762775e-02,  2.58394837e-01,\n",
       "          1.72678590e-01, -9.73167047e-02, -1.44769736e-02,\n",
       "          2.41708457e-01],\n",
       "        [ 1.13738738e-01, -2.39459664e-01,  2.88964272e-01,\n",
       "         -3.91696095e-01,  3.00652683e-01, -1.18972145e-01,\n",
       "         -1.77671283e-01, -3.70340943e-02, -5.54236174e-01,\n",
       "          1.48443788e-01],\n",
       "        [-4.74970251e-01,  2.52817154e-01, -2.89933175e-01,\n",
       "          1.56944633e-01,  1.14399493e-01,  3.72470558e-01,\n",
       "         -5.00537395e-01, -7.66903579e-01,  5.89292981e-02,\n",
       "          1.23251565e-01],\n",
       "        [ 2.26016954e-01, -3.24325711e-02,  2.77889252e-01,\n",
       "         -1.88096523e-01, -1.85019240e-01, -4.07534122e-01,\n",
       "         -3.91819388e-01,  2.58449554e-01,  2.10928079e-02,\n",
       "          1.76604077e-01],\n",
       "        [-3.03838074e-01, -5.86377196e-02,  4.92365181e-01,\n",
       "          3.25572520e-01, -5.22898734e-01, -1.22524634e-01,\n",
       "         -3.68052721e-01,  2.15589598e-01, -5.19151807e-01,\n",
       "         -1.51173651e+00],\n",
       "        [ 2.33049572e-01, -1.27245739e-01,  2.78297942e-02,\n",
       "         -2.16798872e-01, -4.39221799e-01, -1.62780788e-02,\n",
       "          1.97560295e-01,  2.24618003e-01,  2.91486144e-01,\n",
       "          1.22650236e-01],\n",
       "        [-4.20001805e-01,  4.68737155e-01, -5.73087990e-01,\n",
       "         -2.74334192e-01, -5.13598740e-01,  6.96811438e-01,\n",
       "          3.60669374e-01,  1.90446720e-01, -1.78320333e-01,\n",
       "          7.50994086e-02],\n",
       "        [-2.95165181e-01,  1.92296803e-01,  6.20262325e-02,\n",
       "         -1.17572784e-01, -6.95900666e-03,  1.17900642e-02,\n",
       "          2.44890213e-01, -2.91151494e-01,  1.30125999e-01,\n",
       "          8.92551765e-02],\n",
       "        [ 2.94667900e-01,  3.04279774e-01,  2.24671751e-01,\n",
       "          7.09910467e-02, -3.09130162e-01,  1.85077950e-01,\n",
       "          2.68696070e-01, -2.64669418e-01,  1.35811627e-01,\n",
       "         -8.00473522e-03],\n",
       "        [-2.77683169e-01, -4.28243220e-01,  2.13756189e-01,\n",
       "         -3.70110631e-01,  2.73622096e-01,  2.84215450e-01,\n",
       "          1.17151126e-01,  2.50450194e-01,  7.52455438e-04,\n",
       "          1.49255916e-01],\n",
       "        [ 2.09768564e-01, -1.71883062e-01, -1.02146387e-01,\n",
       "         -1.58433303e-01, -1.96091995e-01,  1.40370443e-01,\n",
       "         -1.83781251e-01, -1.53233930e-01,  4.90563512e-02,\n",
       "          3.96240205e-02],\n",
       "        [ 2.89392650e-01,  9.49360728e-02,  1.24727063e-01,\n",
       "         -2.22595632e-01, -3.16838473e-02, -7.50763297e-01,\n",
       "         -5.99408507e-01,  2.79791981e-01, -5.68335354e-01,\n",
       "          3.16302747e-01],\n",
       "        [ 1.44792110e-01, -3.92374158e-01,  4.55044329e-01,\n",
       "         -1.10485703e-02,  2.44657874e-01, -3.67912129e-02,\n",
       "          1.26924679e-01, -2.94455856e-01, -2.84899712e-01,\n",
       "          2.18365237e-01],\n",
       "        [-2.49611154e-01,  1.36991337e-01,  1.29627883e-01,\n",
       "          3.47895443e-01, -4.87591863e-01,  4.59351629e-01,\n",
       "          8.29094946e-02, -6.18016124e-01, -2.72581160e-01,\n",
       "         -4.77523863e-01],\n",
       "        [ 2.88202167e-01, -4.92598005e-02, -4.22241449e-01,\n",
       "          1.10706568e-01,  4.94317971e-02,  3.43033314e-01,\n",
       "         -1.21809393e-01,  2.99892485e-01,  8.74134898e-03,\n",
       "          3.27498496e-01],\n",
       "        [-5.79590686e-02,  6.05127178e-02,  1.33221895e-02,\n",
       "          1.21125571e-01,  2.75638878e-01,  1.90377861e-01,\n",
       "         -2.74795711e-01, -2.97315925e-01, -6.86944604e-01,\n",
       "          3.98792982e-01],\n",
       "        [ 2.12149888e-01, -3.57603729e-01,  1.12562358e-01,\n",
       "         -3.56919430e-02,  2.17489108e-01,  1.37222737e-01,\n",
       "          2.73984879e-01, -4.31254297e-01,  1.40067264e-01,\n",
       "         -1.45140097e-01],\n",
       "        [ 2.48335139e-03, -6.58413589e-01, -2.53747463e-01,\n",
       "          3.40678632e-01,  3.75264585e-02,  2.21739277e-01,\n",
       "         -3.03443342e-01,  1.49562851e-01, -1.90100893e-01,\n",
       "         -8.03202614e-02],\n",
       "        [-4.24628854e-02,  4.57527608e-01, -2.37045407e-01,\n",
       "          1.88828543e-01,  8.02673176e-02, -1.19448163e-01,\n",
       "         -2.02495784e-01, -1.48430839e-01, -4.91675913e-01,\n",
       "         -2.40552843e-01],\n",
       "        [ 2.49884740e-01, -8.36289302e-02,  2.79555898e-02,\n",
       "         -4.43112075e-01,  3.26201022e-01, -2.16754273e-01,\n",
       "         -8.81359056e-02, -1.36633813e-01, -2.06471831e-01,\n",
       "          2.04133168e-01],\n",
       "        [-4.07082856e-01,  3.85651141e-01,  3.09654206e-01,\n",
       "          1.92138124e-02,  2.55144358e-01, -4.55982476e-01,\n",
       "         -6.41692579e-01, -9.91442576e-02,  2.07367375e-01,\n",
       "         -1.12782843e-01],\n",
       "        [-1.08995005e-01,  1.46002412e-01,  1.39628515e-01,\n",
       "         -1.60778016e-01, -4.26315635e-01, -2.18570277e-01,\n",
       "          2.51122475e-01, -3.42933148e-01,  2.57977933e-01,\n",
       "          9.69439670e-02],\n",
       "        [ 1.54731616e-01,  1.61772162e-01,  8.73267651e-02,\n",
       "         -4.54434156e-01, -4.01167959e-01, -4.02848959e-01,\n",
       "          1.96872577e-01, -1.19825818e-01,  4.67865467e-01,\n",
       "         -2.80248612e-01],\n",
       "        [ 3.65760446e-01,  1.41946256e-01,  8.79545957e-02,\n",
       "          3.27096701e-01, -5.11528373e-01, -2.63472795e-01,\n",
       "         -4.61317629e-01,  1.61875248e-01, -2.63027381e-02,\n",
       "          2.81064302e-01],\n",
       "        [ 2.78534830e-01,  6.19705439e-01,  1.96368113e-01,\n",
       "         -2.56106228e-01,  3.50063831e-01,  1.86928562e-04,\n",
       "          1.12507895e-01,  5.41662633e-01, -5.95094681e-01,\n",
       "         -6.00529253e-01],\n",
       "        [ 2.11036861e-01, -7.97578022e-02, -6.33454144e-01,\n",
       "          9.03895795e-02,  9.14576724e-02,  2.18883678e-01,\n",
       "          1.66529357e-01,  3.36872458e-01, -4.75028217e-01,\n",
       "          1.31491899e-01],\n",
       "        [ 2.97243983e-01,  2.34495446e-01,  7.47987181e-02,\n",
       "         -3.29133034e-01,  1.32233407e-02, -1.05590940e-01,\n",
       "          2.64249802e-01, -3.69155318e-01,  2.83257905e-02,\n",
       "          5.85202537e-02],\n",
       "        [-1.75222471e-01,  2.28508100e-01, -4.85798061e-01,\n",
       "          3.03785980e-01,  2.42340252e-01, -5.72639704e-01,\n",
       "          1.87719181e-01,  1.45053580e-01,  9.30831209e-02,\n",
       "          1.49097845e-01],\n",
       "        [-2.49610379e-01,  1.03073910e-01, -4.62918311e-01,\n",
       "          4.12928164e-02, -4.23232734e-01,  2.49610111e-01,\n",
       "         -1.31943718e-01, -1.27620816e-01,  2.52229452e-01,\n",
       "          3.12301457e-01],\n",
       "        [-2.07619846e-01, -7.28035569e-02,  2.70981699e-01,\n",
       "          4.16259229e-01, -5.54685891e-01, -2.83970106e-02,\n",
       "         -4.96694028e-01,  3.02736431e-01, -4.66941655e-01,\n",
       "         -2.81399667e-01],\n",
       "        [ 1.73822984e-01,  5.57535589e-01,  1.75599813e-01,\n",
       "         -3.34385708e-02,  5.34015238e-01, -3.89671862e-01,\n",
       "         -3.86178225e-01,  9.65365767e-02, -4.07940537e-01,\n",
       "         -8.15946832e-02],\n",
       "        [-4.07067269e-01,  2.22545266e-01, -2.40698352e-01,\n",
       "          1.16292216e-01,  2.16780260e-01, -3.20077762e-02,\n",
       "         -3.79585028e-01,  2.49647275e-01,  8.45230296e-02,\n",
       "          2.72477150e-01],\n",
       "        [ 1.88586146e-01, -6.95707425e-02,  5.75528480e-02,\n",
       "          1.43854529e-01,  2.00000986e-01,  1.44024462e-01,\n",
       "          2.46846378e-01, -4.20779109e-01,  7.06342980e-02,\n",
       "         -1.76956013e-01],\n",
       "        [-2.27621660e-01, -2.76687771e-01,  2.01127633e-01,\n",
       "          4.36353266e-01, -1.43938929e-01, -5.43912947e-01,\n",
       "         -6.85960650e-01,  3.50188136e-01,  1.25761762e-01,\n",
       "         -2.76379913e-01],\n",
       "        [-1.19440652e-01,  2.36720517e-01,  2.50047296e-01,\n",
       "          2.30094381e-02,  7.56940916e-02, -4.00949210e-01,\n",
       "          3.98123026e-01,  3.94201159e-01, -2.94577211e-01,\n",
       "         -7.75542438e-01],\n",
       "        [ 1.26155153e-01, -4.15926784e-01, -1.50914356e-01,\n",
       "          1.94982618e-01, -1.22739814e-01,  1.31138623e-01,\n",
       "          1.10050328e-01,  1.50814459e-01,  1.46260843e-01,\n",
       "          9.64242592e-02],\n",
       "        [-8.73650908e-01, -1.89705074e-01,  1.50486780e-02,\n",
       "          2.03951612e-01,  3.09353709e-01,  2.33662024e-01,\n",
       "         -7.35437572e-01,  3.81783545e-02,  5.08872271e-02,\n",
       "          9.04665813e-02],\n",
       "        [-5.36759555e-01,  2.52487302e-01,  4.19663250e-01,\n",
       "         -1.57836303e-01, -3.17430764e-01, -2.51823254e-02,\n",
       "         -3.49714279e-01,  1.80347245e-02,  2.13308051e-01,\n",
       "         -4.89050210e-01],\n",
       "        [-4.56181392e-02, -4.26185936e-01, -6.27252698e-01,\n",
       "         -4.07122433e-01,  2.61448771e-01,  3.90529633e-01,\n",
       "          2.78056920e-01,  2.86065526e-02,  9.46398303e-02,\n",
       "         -5.50827459e-02],\n",
       "        [ 1.28181994e-01, -5.52753687e-01, -1.30679786e-01,\n",
       "         -2.28205860e-01,  2.06425413e-01,  1.10180877e-01,\n",
       "          1.76104367e-01,  1.43261671e-01,  2.03804255e-01,\n",
       "          1.58282548e-01],\n",
       "        [-7.70786107e-02,  3.49444419e-01, -2.18784139e-01,\n",
       "         -2.63766870e-02,  2.76614368e-01, -4.50906456e-01,\n",
       "          3.33519846e-01, -4.58445586e-02, -2.06576645e-01,\n",
       "         -3.09362430e-02],\n",
       "        [-6.77186430e-01, -4.85482842e-01, -3.98515491e-03,\n",
       "         -1.22055493e-01,  3.95728379e-01, -2.25246742e-01,\n",
       "         -3.85012291e-02, -1.70966133e-01, -6.07595801e-01,\n",
       "          3.91256094e-01]], dtype=float32),\n",
       " array([-0.1417392 , -0.01669122, -0.04736514, -0.09123269,  0.10752848,\n",
       "         0.14615873,  0.00497906, -0.02975904,  0.0643521 , -0.0438758 ],\n",
       "       dtype=float32)]"
      ]
     },
     "execution_count": 15,
     "metadata": {},
     "output_type": "execute_result"
    }
   ],
   "source": [
    "model.get_weights()"
   ]
  }
 ],
 "metadata": {
  "kernelspec": {
   "display_name": "Python 3",
   "language": "python",
   "name": "python3"
  },
  "language_info": {
   "codemirror_mode": {
    "name": "ipython",
    "version": 3
   },
   "file_extension": ".py",
   "mimetype": "text/x-python",
   "name": "python",
   "nbconvert_exporter": "python",
   "pygments_lexer": "ipython3",
   "version": "3.11.4"
  }
 },
 "nbformat": 4,
 "nbformat_minor": 4
}
