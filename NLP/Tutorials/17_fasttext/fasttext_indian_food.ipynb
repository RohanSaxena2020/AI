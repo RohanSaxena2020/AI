{
 "cells": [
  {
   "cell_type": "markdown",
   "id": "9fc69a91",
   "metadata": {},
   "source": [
    "<h3>Download and explore pre-trained models</h3>"
   ]
  },
  {
   "cell_type": "markdown",
   "id": "801bc8a9",
   "metadata": {},
   "source": [
    "##### (1) Explore English Model"
   ]
  },
  {
   "cell_type": "code",
   "execution_count": 7,
   "id": "889e0cc5",
   "metadata": {
    "scrolled": true
   },
   "outputs": [
    {
     "data": {
      "text/plain": [
       "[(0.7517593502998352, 'bad'),\n",
       " (0.7426098585128784, 'great'),\n",
       " (0.7299689054489136, 'decent'),\n",
       " (0.7123614549636841, 'nice'),\n",
       " (0.6796907186508179, 'Good'),\n",
       " (0.6737031936645508, 'excellent'),\n",
       " (0.669592022895813, 'goood'),\n",
       " (0.6602178812026978, 'ggod'),\n",
       " (0.6479219794273376, 'semi-good'),\n",
       " (0.6417751908302307, 'good.Good')]"
      ]
     },
     "execution_count": 7,
     "metadata": {},
     "output_type": "execute_result"
    }
   ],
   "source": [
    "import fasttext\n",
    "\n",
    "model_en = fasttext.load_model('./cc.en.300.bin')\n",
    "\n",
    "model_en.get_nearest_neighbors('good')"
   ]
  },
  {
   "cell_type": "code",
   "execution_count": 8,
   "id": "e745e5de",
   "metadata": {},
   "outputs": [
    {
     "data": {
      "text/plain": [
       "['__class__',\n",
       " '__contains__',\n",
       " '__delattr__',\n",
       " '__dict__',\n",
       " '__dir__',\n",
       " '__doc__',\n",
       " '__eq__',\n",
       " '__format__',\n",
       " '__ge__',\n",
       " '__getattribute__',\n",
       " '__getitem__',\n",
       " '__getstate__',\n",
       " '__gt__',\n",
       " '__hash__',\n",
       " '__init__',\n",
       " '__init_subclass__',\n",
       " '__le__',\n",
       " '__lt__',\n",
       " '__module__',\n",
       " '__ne__',\n",
       " '__new__',\n",
       " '__reduce__',\n",
       " '__reduce_ex__',\n",
       " '__repr__',\n",
       " '__setattr__',\n",
       " '__sizeof__',\n",
       " '__str__',\n",
       " '__subclasshook__',\n",
       " '__weakref__',\n",
       " '_labels',\n",
       " '_words',\n",
       " 'f',\n",
       " 'get_analogies',\n",
       " 'get_dimension',\n",
       " 'get_input_matrix',\n",
       " 'get_input_vector',\n",
       " 'get_label_id',\n",
       " 'get_labels',\n",
       " 'get_line',\n",
       " 'get_meter',\n",
       " 'get_nearest_neighbors',\n",
       " 'get_output_matrix',\n",
       " 'get_sentence_vector',\n",
       " 'get_subword_id',\n",
       " 'get_subwords',\n",
       " 'get_word_id',\n",
       " 'get_word_vector',\n",
       " 'get_words',\n",
       " 'is_quantized',\n",
       " 'labels',\n",
       " 'predict',\n",
       " 'quantize',\n",
       " 'save_model',\n",
       " 'set_args',\n",
       " 'set_matrices',\n",
       " 'test',\n",
       " 'test_label',\n",
       " 'words']"
      ]
     },
     "execution_count": 8,
     "metadata": {},
     "output_type": "execute_result"
    }
   ],
   "source": [
    "dir(model_en)"
   ]
  },
  {
   "cell_type": "code",
   "execution_count": 9,
   "id": "a7a15503",
   "metadata": {},
   "outputs": [
    {
     "data": {
      "text/plain": [
       "(300,)"
      ]
     },
     "execution_count": 9,
     "metadata": {},
     "output_type": "execute_result"
    }
   ],
   "source": [
    "model_en.get_word_vector(\"good\").shape"
   ]
  },
  {
   "cell_type": "code",
   "execution_count": 10,
   "id": "1de3bc3e",
   "metadata": {},
   "outputs": [
    {
     "data": {
      "text/plain": [
       "[(0.730373203754425, 'paris'),\n",
       " (0.6408537030220032, 'france.'),\n",
       " (0.6393311023712158, 'avignon'),\n",
       " (0.6316676139831543, 'paris.'),\n",
       " (0.5895596742630005, 'montpellier'),\n",
       " (0.5884554386138916, 'rennes'),\n",
       " (0.5850598812103271, 'grenoble'),\n",
       " (0.5832924246788025, 'london'),\n",
       " (0.5806092619895935, 'strasbourg'),\n",
       " (0.574320375919342, 'Paris.')]"
      ]
     },
     "execution_count": 10,
     "metadata": {},
     "output_type": "execute_result"
    }
   ],
   "source": [
    "model_en.get_analogies(\"berlin\",\"germany\",\"france\")"
   ]
  },
  {
   "cell_type": "code",
   "execution_count": 11,
   "id": "874ae83b",
   "metadata": {},
   "outputs": [
    {
     "data": {
      "text/plain": [
       "[(0.7148876786231995, 'delhi'),\n",
       " (0.6974374055862427, 'mumbai'),\n",
       " (0.648612916469574, 'jaipur'),\n",
       " (0.6349966526031494, 'kolkata'),\n",
       " (0.6279922127723694, 'pune'),\n",
       " (0.627759575843811, 'bangalore'),\n",
       " (0.6044078469276428, 'hyderabad'),\n",
       " (0.6021745800971985, 'noida'),\n",
       " (0.6018899083137512, 'bhubaneswar'),\n",
       " (0.5990776419639587, 'nashik')]"
      ]
     },
     "execution_count": 11,
     "metadata": {},
     "output_type": "execute_result"
    }
   ],
   "source": [
    "model_en.get_analogies(\"berlin\",\"germany\",\"india\")"
   ]
  },
  {
   "cell_type": "code",
   "execution_count": 12,
   "id": "d617ad0e",
   "metadata": {},
   "outputs": [
    {
     "data": {
      "text/plain": [
       "[(0.610385537147522, 'texting'),\n",
       " (0.5203559398651123, 'phone-calling'),\n",
       " (0.5153835415840149, 'cellphone'),\n",
       " (0.5135326981544495, 'cell-phone'),\n",
       " (0.5117910504341125, 'dialing'),\n",
       " (0.5087355971336365, 'texing'),\n",
       " (0.5079342722892761, 'text-messaging'),\n",
       " (0.5009004473686218, 'txting'),\n",
       " (0.4960441589355469, 'texting.'),\n",
       " (0.4951860010623932, 'Texting')]"
      ]
     },
     "execution_count": 12,
     "metadata": {},
     "output_type": "execute_result"
    }
   ],
   "source": [
    "model_en.get_analogies(\"driving\",\"car\",\"phone\")"
   ]
  },
  {
   "cell_type": "code",
   "execution_count": 13,
   "id": "59f8c719",
   "metadata": {},
   "outputs": [
    {
     "data": {
      "text/plain": [
       "[(0.5302355885505676, 'reading'),\n",
       " (0.517051637172699, 'book.I'),\n",
       " (0.5137901306152344, 'book--and'),\n",
       " (0.5090512633323669, 'book.That'),\n",
       " (0.5005884766578674, 'book--it'),\n",
       " (0.49395182728767395, 'book--I'),\n",
       " (0.49293914437294006, 're-reading'),\n",
       " (0.4915698766708374, 'book.This'),\n",
       " (0.49107635021209717, 'reading--and'),\n",
       " (0.4896092414855957, 'book--the')]"
      ]
     },
     "execution_count": 13,
     "metadata": {},
     "output_type": "execute_result"
    }
   ],
   "source": [
    "model_en.get_analogies(\"driving\",\"car\",\"book\")"
   ]
  },
  {
   "cell_type": "code",
   "execution_count": 14,
   "id": "a5e98313",
   "metadata": {},
   "outputs": [
    {
     "data": {
      "text/plain": [
       "[(0.8078702092170715, 'chutneys'),\n",
       " (0.7138292789459229, 'thokku'),\n",
       " (0.701572060585022, 'Chutney'),\n",
       " (0.6875490546226501, 'achaar'),\n",
       " (0.684525728225708, 'piccalilli'),\n",
       " (0.6737173199653625, 'raita'),\n",
       " (0.6715506911277771, 'chatni'),\n",
       " (0.6610829830169678, 'chutney.'),\n",
       " (0.6505922675132751, 'gojju'),\n",
       " (0.6398508548736572, 'kasundi')]"
      ]
     },
     "execution_count": 14,
     "metadata": {},
     "output_type": "execute_result"
    }
   ],
   "source": [
    "model_en.get_nearest_neighbors(\"chutney\")"
   ]
  },
  {
   "cell_type": "code",
   "execution_count": 15,
   "id": "041e928b",
   "metadata": {},
   "outputs": [
    {
     "data": {
      "text/plain": [
       "[(0.8563978672027588, 'kheer'),\n",
       " (0.8392286896705627, 'burfi'),\n",
       " (0.8193163871765137, 'Halwa'),\n",
       " (0.7894062995910645, 'kesari'),\n",
       " (0.778471827507019, 'payasam'),\n",
       " (0.7706475853919983, 'burfis'),\n",
       " (0.7590622901916504, 'laddoo'),\n",
       " (0.7504664659500122, 'ladoo'),\n",
       " (0.7471016645431519, 'rabdi'),\n",
       " (0.7396334409713745, 'laddu')]"
      ]
     },
     "execution_count": 15,
     "metadata": {},
     "output_type": "execute_result"
    }
   ],
   "source": [
    "model_en.get_nearest_neighbors(\"halwa\")"
   ]
  },
  {
   "cell_type": "code",
   "execution_count": 16,
   "id": "66f816ba",
   "metadata": {
    "scrolled": false
   },
   "outputs": [
    {
     "data": {
      "text/plain": [
       "[(0.538497805595398,\n",
       "  'ReportsTabloidCrimeYakuzaTokyoGinzaIkebukuroKabukichoRoppongiShibuyaShimbashiShinjukuUenoJapanChibaFukuokaKobeKyotoNagoyaOkinawaOsakaSaitamaYokohamaSportsBaseballHorse'),\n",
       " (0.5373231768608093,\n",
       "  'NoidaVaranasiBareillyMathuraAligarhMoradabadSaharanpurBijnorJaunpurGorakhpurMuzaffarnagarSultanpurDehradunHaridwarNainitalRoorkeeGarhwalBardhamanMurshidabadHooghlyMedinipurNorth'),\n",
       " (0.5331498980522156,\n",
       "  'NagarBhiwaniKarnalKurukshetraMahendragarhSirsaPanipatJindJhajjarRewariSolanShimlaKangraHamirpurMandiJammuSrinagarRanchiJamshedpurMangaloreMysoreBelgaumGulbargaTumkurBijapurDavanagereDharwadShimogaUdupiHassanBidarHubliKolarBagalkotKannadaChitradurgaMandyaGadagBellaryRaichurThiruvananthapuramThrissurErnakulamMalappuramKochiKottayamKannurKozhikodeKollamPalakkadPathanamthittaCalicutTrivandrumAlappuzhaKasaragodBhopalIndoreGwaliorJabalpurUjjainSagarChhatarpurPuneNagpurAurangabadNashikKolhapurAhmed')]"
      ]
     },
     "execution_count": 16,
     "metadata": {},
     "output_type": "execute_result"
    }
   ],
   "source": [
    "model_en.get_nearest_neighbors(\"saragva\", k=3)"
   ]
  },
  {
   "cell_type": "markdown",
   "id": "186c9e7b",
   "metadata": {},
   "source": [
    "##### (2) Explore Hindi Model"
   ]
  },
  {
   "cell_type": "code",
   "execution_count": 17,
   "id": "01b14f4c",
   "metadata": {},
   "outputs": [
    {
     "ename": "ValueError",
     "evalue": "C:\\Code\\nlp-tutorials\\downloads\\cc.hi.300.bin cannot be opened for loading!",
     "output_type": "error",
     "traceback": [
      "\u001b[0;31m---------------------------------------------------------------------------\u001b[0m",
      "\u001b[0;31mValueError\u001b[0m                                Traceback (most recent call last)",
      "Cell \u001b[0;32mIn[17], line 1\u001b[0m\n\u001b[0;32m----> 1\u001b[0m model_hi \u001b[38;5;241m=\u001b[39m \u001b[43mfasttext\u001b[49m\u001b[38;5;241;43m.\u001b[39;49m\u001b[43mload_model\u001b[49m\u001b[43m(\u001b[49m\u001b[38;5;124;43m'\u001b[39;49m\u001b[38;5;124;43mC:\u001b[39;49m\u001b[38;5;130;43;01m\\\\\u001b[39;49;00m\u001b[38;5;124;43mCode\u001b[39;49m\u001b[38;5;130;43;01m\\\\\u001b[39;49;00m\u001b[38;5;124;43mnlp-tutorials\u001b[39;49m\u001b[38;5;130;43;01m\\\\\u001b[39;49;00m\u001b[38;5;124;43mdownloads\u001b[39;49m\u001b[38;5;130;43;01m\\\\\u001b[39;49;00m\u001b[38;5;124;43mcc.hi.300.bin\u001b[39;49m\u001b[38;5;124;43m'\u001b[39;49m\u001b[43m)\u001b[49m\n",
      "File \u001b[0;32m~/Desktop/AI Engineer/Week 28-30 - NLP/Tutorials/myenv/lib/python3.12/site-packages/fasttext/FastText.py:445\u001b[0m, in \u001b[0;36mload_model\u001b[0;34m(path)\u001b[0m\n\u001b[1;32m    443\u001b[0m \u001b[38;5;28;01mdef\u001b[39;00m \u001b[38;5;21mload_model\u001b[39m(path):\n\u001b[1;32m    444\u001b[0m \u001b[38;5;250m    \u001b[39m\u001b[38;5;124;03m\"\"\"Load a model given a filepath and return a model object.\"\"\"\u001b[39;00m\n\u001b[0;32m--> 445\u001b[0m     \u001b[38;5;28;01mreturn\u001b[39;00m \u001b[43m_FastText\u001b[49m\u001b[43m(\u001b[49m\u001b[43mmodel_path\u001b[49m\u001b[38;5;241;43m=\u001b[39;49m\u001b[43mpath\u001b[49m\u001b[43m)\u001b[49m\n",
      "File \u001b[0;32m~/Desktop/AI Engineer/Week 28-30 - NLP/Tutorials/myenv/lib/python3.12/site-packages/fasttext/FastText.py:93\u001b[0m, in \u001b[0;36m_FastText.__init__\u001b[0;34m(self, model_path, args)\u001b[0m\n\u001b[1;32m     91\u001b[0m \u001b[38;5;28mself\u001b[39m\u001b[38;5;241m.\u001b[39mf \u001b[38;5;241m=\u001b[39m fasttext\u001b[38;5;241m.\u001b[39mfasttext()\n\u001b[1;32m     92\u001b[0m \u001b[38;5;28;01mif\u001b[39;00m model_path \u001b[38;5;129;01mis\u001b[39;00m \u001b[38;5;129;01mnot\u001b[39;00m \u001b[38;5;28;01mNone\u001b[39;00m:\n\u001b[0;32m---> 93\u001b[0m     \u001b[38;5;28;43mself\u001b[39;49m\u001b[38;5;241;43m.\u001b[39;49m\u001b[43mf\u001b[49m\u001b[38;5;241;43m.\u001b[39;49m\u001b[43mloadModel\u001b[49m\u001b[43m(\u001b[49m\u001b[43mmodel_path\u001b[49m\u001b[43m)\u001b[49m\n\u001b[1;32m     94\u001b[0m \u001b[38;5;28mself\u001b[39m\u001b[38;5;241m.\u001b[39m_words \u001b[38;5;241m=\u001b[39m \u001b[38;5;28;01mNone\u001b[39;00m\n\u001b[1;32m     95\u001b[0m \u001b[38;5;28mself\u001b[39m\u001b[38;5;241m.\u001b[39m_labels \u001b[38;5;241m=\u001b[39m \u001b[38;5;28;01mNone\u001b[39;00m\n",
      "\u001b[0;31mValueError\u001b[0m: C:\\Code\\nlp-tutorials\\downloads\\cc.hi.300.bin cannot be opened for loading!"
     ]
    }
   ],
   "source": [
    "model_hi = fasttext.load_model('C:\\\\Code\\\\nlp-tutorials\\\\downloads\\\\cc.hi.300.bin')"
   ]
  },
  {
   "cell_type": "code",
   "execution_count": 129,
   "id": "673e0e80",
   "metadata": {},
   "outputs": [
    {
     "data": {
      "text/plain": [
       "[(0.6697985529899597, 'बुरा'),\n",
       " (0.6132625341415405, 'अच्छे'),\n",
       " (0.608695387840271, 'अच्चा'),\n",
       " (0.6058669090270996, 'अच्छाखासा'),\n",
       " (0.5848375558853149, 'कीअच्छा'),\n",
       " (0.5826330184936523, 'औरअच्छा'),\n",
       " (0.5811230540275574, 'हो.अच्छा'),\n",
       " (0.5805407762527466, 'हीअच्छा'),\n",
       " (0.5795978307723999, 'लगता'),\n",
       " (0.5777745246887207, '58अच्छा')]"
      ]
     },
     "execution_count": 129,
     "metadata": {},
     "output_type": "execute_result"
    }
   ],
   "source": [
    "model_hi.get_nearest_neighbors(\"अच्छा\")"
   ]
  },
  {
   "cell_type": "code",
   "execution_count": 134,
   "id": "921d7fcd",
   "metadata": {},
   "outputs": [
    {
     "data": {
      "text/plain": [
       "[(0.6485272645950317, 'गायों'),\n",
       " (0.6403631567955017, 'गोमाता'),\n",
       " (0.6264104247093201, 'बछड़े'),\n",
       " (0.6045769453048706, 'बछडे'),\n",
       " (0.6030024886131287, 'दुधारु'),\n",
       " (0.5880257487297058, 'भेंस'),\n",
       " (0.5822192430496216, 'भैंस'),\n",
       " (0.5819100737571716, 'दुधारू'),\n",
       " (0.5773836970329285, 'गौमाता'),\n",
       " (0.5771614909172058, 'गायें')]"
      ]
     },
     "execution_count": 134,
     "metadata": {},
     "output_type": "execute_result"
    }
   ],
   "source": [
    "model_hi.get_nearest_neighbors(\"गाय\")"
   ]
  },
  {
   "cell_type": "markdown",
   "id": "b287e393",
   "metadata": {},
   "source": [
    "## Custom train word embeddings on indian food receipes 😋\n",
    "\n",
    "dataset credits: https://www.kaggle.com/datasets/sooryaprakash12/cleaned-indian-recipes-dataset"
   ]
  },
  {
   "cell_type": "code",
   "execution_count": 18,
   "id": "2630f62a",
   "metadata": {},
   "outputs": [
    {
     "name": "stdout",
     "output_type": "stream",
     "text": [
      "(5938, 9)\n"
     ]
    },
    {
     "data": {
      "text/html": [
       "<div>\n",
       "<style scoped>\n",
       "    .dataframe tbody tr th:only-of-type {\n",
       "        vertical-align: middle;\n",
       "    }\n",
       "\n",
       "    .dataframe tbody tr th {\n",
       "        vertical-align: top;\n",
       "    }\n",
       "\n",
       "    .dataframe thead th {\n",
       "        text-align: right;\n",
       "    }\n",
       "</style>\n",
       "<table border=\"1\" class=\"dataframe\">\n",
       "  <thead>\n",
       "    <tr style=\"text-align: right;\">\n",
       "      <th></th>\n",
       "      <th>TranslatedRecipeName</th>\n",
       "      <th>TranslatedIngredients</th>\n",
       "      <th>TotalTimeInMins</th>\n",
       "      <th>Cuisine</th>\n",
       "      <th>TranslatedInstructions</th>\n",
       "      <th>URL</th>\n",
       "      <th>Cleaned-Ingredients</th>\n",
       "      <th>image-url</th>\n",
       "      <th>Ingredient-count</th>\n",
       "    </tr>\n",
       "  </thead>\n",
       "  <tbody>\n",
       "    <tr>\n",
       "      <th>0</th>\n",
       "      <td>Masala Karela Recipe</td>\n",
       "      <td>1 tablespoon Red Chilli powder,3 tablespoon Gr...</td>\n",
       "      <td>45</td>\n",
       "      <td>Indian</td>\n",
       "      <td>To begin making the Masala Karela Recipe,de-se...</td>\n",
       "      <td>https://www.archanaskitchen.com/masala-karela-...</td>\n",
       "      <td>salt,amchur (dry mango powder),karela (bitter ...</td>\n",
       "      <td>https://www.archanaskitchen.com/images/archana...</td>\n",
       "      <td>10</td>\n",
       "    </tr>\n",
       "    <tr>\n",
       "      <th>1</th>\n",
       "      <td>Spicy Tomato Rice (Recipe)</td>\n",
       "      <td>2 teaspoon cashew - or peanuts, 1/2 Teaspoon ...</td>\n",
       "      <td>15</td>\n",
       "      <td>South Indian Recipes</td>\n",
       "      <td>To make tomato puliogere, first cut the tomato...</td>\n",
       "      <td>https://www.archanaskitchen.com/spicy-tomato-r...</td>\n",
       "      <td>tomato,salt,chickpea lentils,green chilli,rice...</td>\n",
       "      <td>https://www.archanaskitchen.com/images/archana...</td>\n",
       "      <td>12</td>\n",
       "    </tr>\n",
       "    <tr>\n",
       "      <th>2</th>\n",
       "      <td>Ragi Semiya Upma Recipe - Ragi Millet Vermicel...</td>\n",
       "      <td>1 Onion - sliced,1 teaspoon White Urad Dal (Sp...</td>\n",
       "      <td>50</td>\n",
       "      <td>South Indian Recipes</td>\n",
       "      <td>To begin making the Ragi Vermicelli Recipe, fi...</td>\n",
       "      <td>https://www.archanaskitchen.com/ragi-vermicell...</td>\n",
       "      <td>salt,rice vermicelli noodles (thin),asafoetida...</td>\n",
       "      <td>https://www.archanaskitchen.com/images/archana...</td>\n",
       "      <td>12</td>\n",
       "    </tr>\n",
       "  </tbody>\n",
       "</table>\n",
       "</div>"
      ],
      "text/plain": [
       "                                TranslatedRecipeName  \\\n",
       "0                               Masala Karela Recipe   \n",
       "1                         Spicy Tomato Rice (Recipe)   \n",
       "2  Ragi Semiya Upma Recipe - Ragi Millet Vermicel...   \n",
       "\n",
       "                               TranslatedIngredients  TotalTimeInMins  \\\n",
       "0  1 tablespoon Red Chilli powder,3 tablespoon Gr...               45   \n",
       "1   2 teaspoon cashew - or peanuts, 1/2 Teaspoon ...               15   \n",
       "2  1 Onion - sliced,1 teaspoon White Urad Dal (Sp...               50   \n",
       "\n",
       "                Cuisine                             TranslatedInstructions  \\\n",
       "0                Indian  To begin making the Masala Karela Recipe,de-se...   \n",
       "1  South Indian Recipes  To make tomato puliogere, first cut the tomato...   \n",
       "2  South Indian Recipes  To begin making the Ragi Vermicelli Recipe, fi...   \n",
       "\n",
       "                                                 URL  \\\n",
       "0  https://www.archanaskitchen.com/masala-karela-...   \n",
       "1  https://www.archanaskitchen.com/spicy-tomato-r...   \n",
       "2  https://www.archanaskitchen.com/ragi-vermicell...   \n",
       "\n",
       "                                 Cleaned-Ingredients  \\\n",
       "0  salt,amchur (dry mango powder),karela (bitter ...   \n",
       "1  tomato,salt,chickpea lentils,green chilli,rice...   \n",
       "2  salt,rice vermicelli noodles (thin),asafoetida...   \n",
       "\n",
       "                                           image-url  Ingredient-count  \n",
       "0  https://www.archanaskitchen.com/images/archana...                10  \n",
       "1  https://www.archanaskitchen.com/images/archana...                12  \n",
       "2  https://www.archanaskitchen.com/images/archana...                12  "
      ]
     },
     "execution_count": 18,
     "metadata": {},
     "output_type": "execute_result"
    }
   ],
   "source": [
    "import pandas as pd\n",
    "\n",
    "df = pd.read_csv(\"Cleaned_Indian_Food_Dataset.csv\")\n",
    "print(df.shape)\n",
    "df.head(3)"
   ]
  },
  {
   "cell_type": "code",
   "execution_count": 19,
   "id": "7ff79015",
   "metadata": {},
   "outputs": [
    {
     "data": {
      "text/plain": [
       "'To begin making the Masala Karela Recipe,de-seed the karela and slice.\\nDo not remove the skin as the skin has all the nutrients.\\nAdd the karela to the pressure cooker with 3 tablespoon of water, salt and turmeric powder and pressure cook for three whistles.\\nRelease the pressure immediately and open the lids.\\nKeep aside.Heat oil in a heavy bottomed pan or a kadhai.\\nAdd cumin seeds and let it sizzle.Once the cumin seeds have sizzled, add onions and saute them till it turns golden brown in color.Add the karela, red chilli powder, amchur powder, coriander powder and besan.\\nStir to combine the masalas into the karela.Drizzle a little extra oil on the top and mix again.\\nCover the pan and simmer Masala Karela stirring occasionally until everything comes together well.\\nTurn off the heat.Transfer Masala Karela into a serving bowl and serve.Serve Masala Karela along with Panchmel Dal and Phulka for a weekday meal with your family.\\n'"
      ]
     },
     "execution_count": 19,
     "metadata": {},
     "output_type": "execute_result"
    }
   ],
   "source": [
    "df.TranslatedInstructions[0]"
   ]
  },
  {
   "cell_type": "code",
   "execution_count": 20,
   "id": "4b6e8ebc",
   "metadata": {},
   "outputs": [
    {
     "data": {
      "text/plain": [
       "'To begin making the Masala Karela Recipe de seed the karela and slice \\nDo not remove the skin as the skin has all the nutrients \\nAdd the karela to the pressure cooker with 3 tablespoon of water  salt and turmeric powder and pressure cook for three whistles \\nRelease the pressure immediately and open the lids \\nKeep aside Heat oil in a heavy bottomed pan or a kadhai \\nAdd cumin seeds and let it sizzle Once the cumin seeds have sizzled  add onions and saute them till it turns golden brown in color Add the karela  red chilli powder  amchur powder  coriander powder and besan \\nStir to combine the masalas into the karela Drizzle a little extra oil on the top and mix again \\nCover the pan and simmer Masala Karela stirring occasionally until everything comes together well \\nTurn off the heat Transfer Masala Karela into a serving bowl and serve Serve Masala Karela along with Panchmel Dal and Phulka for a weekday meal with your family \\n'"
      ]
     },
     "execution_count": 20,
     "metadata": {},
     "output_type": "execute_result"
    }
   ],
   "source": [
    "import re\n",
    "\n",
    "text = 'To begin making the Masala Karela Recipe,de-seed the karela and slice.\\nDo not remove the skin as the skin has all the nutrients.\\nAdd the karela to the pressure cooker with 3 tablespoon of water, salt and turmeric powder and pressure cook for three whistles.\\nRelease the pressure immediately and open the lids.\\nKeep aside.Heat oil in a heavy bottomed pan or a kadhai.\\nAdd cumin seeds and let it sizzle.Once the cumin seeds have sizzled, add onions and saute them till it turns golden brown in color.Add the karela, red chilli powder, amchur powder, coriander powder and besan.\\nStir to combine the masalas into the karela.Drizzle a little extra oil on the top and mix again.\\nCover the pan and simmer Masala Karela stirring occasionally until everything comes together well.\\nTurn off the heat.Transfer Masala Karela into a serving bowl and serve.Serve Masala Karela along with Panchmel Dal and Phulka for a weekday meal with your family.\\n'\n",
    "\n",
    "re.sub(r\"[^\\w\\s]\", \" \", text, flags=re.MULTILINE)"
   ]
  },
  {
   "cell_type": "code",
   "execution_count": 21,
   "id": "4ea1873a",
   "metadata": {},
   "outputs": [],
   "source": [
    "def preprocess(text):\n",
    "    text = re.sub(r'[^\\w\\s\\']',' ', text)\n",
    "    text = re.sub(r'[ \\n]+', ' ', text)\n",
    "    return text.strip().lower() "
   ]
  },
  {
   "cell_type": "code",
   "execution_count": 22,
   "id": "c6c0b732",
   "metadata": {},
   "outputs": [
    {
     "data": {
      "text/plain": [
       "'to begin making the masala karela recipe de seed the karela and slice do not remove the skin as the skin has all the nutrients add the karela to the pressure cooker with 3 tablespoon of water salt and turmeric powder and pressure cook for three whistles release the pressure immediately and open the lids keep aside heat oil in a heavy bottomed pan or a kadhai add cumin seeds and let it sizzle once the cumin seeds have sizzled add onions and saute them till it turns golden brown in color add the karela red chilli powder amchur powder coriander powder and besan stir to combine the masalas into the karela drizzle a little extra oil on the top and mix again cover the pan and simmer masala karela stirring occasionally until everything comes together well turn off the heat transfer masala karela into a serving bowl and serve serve masala karela along with panchmel dal and phulka for a weekday meal with your family'"
      ]
     },
     "execution_count": 22,
     "metadata": {},
     "output_type": "execute_result"
    }
   ],
   "source": [
    "text = 'To begin making the Masala Karela Recipe,de-seed the karela and slice.\\nDo not remove the skin as the skin has all the nutrients.\\nAdd the karela to the pressure cooker with 3 tablespoon of water, salt and turmeric powder and pressure cook for three whistles.\\nRelease the pressure immediately and open the lids.\\nKeep aside.Heat oil in a heavy bottomed pan or a kadhai.\\nAdd cumin seeds and let it sizzle.Once the cumin seeds have sizzled, add onions and saute them till it turns golden brown in color.Add the karela, red chilli powder, amchur powder, coriander powder and besan.\\nStir to combine the masalas into the karela.Drizzle a little extra oil on the top and mix again.\\nCover the pan and simmer Masala Karela stirring occasionally until everything comes together well.\\nTurn off the heat.Transfer Masala Karela into a serving bowl and serve.Serve Masala Karela along with Panchmel Dal and Phulka for a weekday meal with your family.\\n'\n",
    "\n",
    "preprocess(text)"
   ]
  },
  {
   "cell_type": "code",
   "execution_count": 23,
   "id": "c9310abd",
   "metadata": {},
   "outputs": [],
   "source": [
    "df.TranslatedInstructions = df.TranslatedInstructions.map(preprocess)"
   ]
  },
  {
   "cell_type": "code",
   "execution_count": 24,
   "id": "f234531f",
   "metadata": {},
   "outputs": [
    {
     "data": {
      "text/plain": [
       "'to begin making the masala karela recipe de seed the karela and slice do not remove the skin as the skin has all the nutrients add the karela to the pressure cooker with 3 tablespoon of water salt and turmeric powder and pressure cook for three whistles release the pressure immediately and open the lids keep aside heat oil in a heavy bottomed pan or a kadhai add cumin seeds and let it sizzle once the cumin seeds have sizzled add onions and saute them till it turns golden brown in color add the karela red chilli powder amchur powder coriander powder and besan stir to combine the masalas into the karela drizzle a little extra oil on the top and mix again cover the pan and simmer masala karela stirring occasionally until everything comes together well turn off the heat transfer masala karela into a serving bowl and serve serve masala karela along with panchmel dal and phulka for a weekday meal with your family'"
      ]
     },
     "execution_count": 24,
     "metadata": {},
     "output_type": "execute_result"
    }
   ],
   "source": [
    "df.TranslatedInstructions[0]"
   ]
  },
  {
   "cell_type": "code",
   "execution_count": 25,
   "id": "b0ee507b",
   "metadata": {},
   "outputs": [],
   "source": [
    "df.to_csv(\"food_receipes.txt\", columns=[\"TranslatedInstructions\"], header=None, index=False)"
   ]
  },
  {
   "cell_type": "code",
   "execution_count": 26,
   "id": "fae5ac1c",
   "metadata": {},
   "outputs": [
    {
     "name": "stderr",
     "output_type": "stream",
     "text": [
      "Read 1M words\n",
      "Number of words:  4599\n",
      "Number of labels: 0\n",
      "Progress: 100.0% words/sec/thread:  176344 lr:  0.000000 avg.loss:  2.180653 ETA:   0h 0m 0s\n"
     ]
    }
   ],
   "source": [
    "import fasttext\n",
    "\n",
    "model = fasttext.train_unsupervised(\"food_receipes.txt\")"
   ]
  },
  {
   "cell_type": "code",
   "execution_count": 27,
   "id": "84debf5a",
   "metadata": {
    "scrolled": true
   },
   "outputs": [
    {
     "data": {
      "text/plain": [
       "[(0.6503328084945679, 'tikka'),\n",
       " (0.645564079284668, 'makhanwala'),\n",
       " (0.635159432888031, 'makhani'),\n",
       " (0.627124011516571, 'makhane'),\n",
       " (0.6190420985221863, 'satay'),\n",
       " (0.6048730611801147, 'nawabi'),\n",
       " (0.5881850719451904, 'tandoori'),\n",
       " (0.5847490429878235, 'shashlik'),\n",
       " (0.5790637731552124, 'tikkas'),\n",
       " (0.5764771699905396, 'bhurji')]"
      ]
     },
     "execution_count": 27,
     "metadata": {},
     "output_type": "execute_result"
    }
   ],
   "source": [
    "model.get_nearest_neighbors(\"paneer\")"
   ]
  },
  {
   "cell_type": "code",
   "execution_count": 28,
   "id": "f936a8bf",
   "metadata": {},
   "outputs": [
    {
     "data": {
      "text/plain": [
       "[(0.9426281452178955, 'chutneys'),\n",
       " (0.7391725182533264, 'dhaniya'),\n",
       " (0.7240264415740967, 'khajur'),\n",
       " (0.7193828225135803, 'imli'),\n",
       " (0.6853070259094238, 'sippe'),\n",
       " (0.6796351671218872, 'south'),\n",
       " (0.6707780361175537, 'pudina'),\n",
       " (0.6592490673065186, 'pudi'),\n",
       " (0.6465280055999756, 'chammanthi'),\n",
       " (0.6398019790649414, 'thavala')]"
      ]
     },
     "execution_count": 28,
     "metadata": {},
     "output_type": "execute_result"
    }
   ],
   "source": [
    "model.get_nearest_neighbors(\"chutney\")"
   ]
  },
  {
   "cell_type": "code",
   "execution_count": 29,
   "id": "fb75dcf0",
   "metadata": {},
   "outputs": [
    {
     "data": {
      "text/plain": [
       "[(0.7264147400856018, 'khoya'),\n",
       " (0.7202510237693787, 'sheera'),\n",
       " (0.6719585061073303, 'badam'),\n",
       " (0.6716736555099487, 'bhog'),\n",
       " (0.6656182408332825, 'mohan'),\n",
       " (0.6642636656761169, 'mawa'),\n",
       " (0.655704915523529, 'halbai'),\n",
       " (0.6492296457290649, 'rabri'),\n",
       " (0.6363391280174255, 'kesari'),\n",
       " (0.6315805912017822, 'gajar')]"
      ]
     },
     "execution_count": 29,
     "metadata": {},
     "output_type": "execute_result"
    }
   ],
   "source": [
    "model.get_nearest_neighbors(\"halwa\")"
   ]
  },
  {
   "cell_type": "code",
   "execution_count": 30,
   "id": "79ad1c5f",
   "metadata": {},
   "outputs": [
    {
     "data": {
      "text/plain": [
       "[(0.8536763787269592, 'dosai'),\n",
       " (0.8010610342025757, 'dosas'),\n",
       " (0.7765754461288452, \"dosa's\"),\n",
       " (0.7657299637794495, 'uttapam'),\n",
       " (0.7447391748428345, 'uthappam'),\n",
       " (0.7389146685600281, 'dose'),\n",
       " (0.7306891679763794, 'pesarattu'),\n",
       " (0.712146520614624, 'chembaruthi'),\n",
       " (0.7101587057113647, 'neer'),\n",
       " (0.6849141120910645, 'achappam')]"
      ]
     },
     "execution_count": 30,
     "metadata": {},
     "output_type": "execute_result"
    }
   ],
   "source": [
    "model.get_nearest_neighbors(\"dosa\")"
   ]
  },
  {
   "cell_type": "code",
   "execution_count": 31,
   "id": "617f1a48",
   "metadata": {
    "scrolled": true
   },
   "outputs": [
    {
     "data": {
      "text/plain": [
       "[(0.7113500237464905, 'sprouted'),\n",
       " (0.6932205557823181, 'dal'),\n",
       " (0.6742766499519348, 'sprout'),\n",
       " (0.6658014059066772, 'sprouts'),\n",
       " (0.6444674730300903, 'moth'),\n",
       " (0.6370465159416199, 'moongphali'),\n",
       " (0.6323994994163513, 'mooga'),\n",
       " (0.6304439306259155, 'sookhi'),\n",
       " (0.6253175139427185, 'usal'),\n",
       " (0.6242178082466125, 'phanna')]"
      ]
     },
     "execution_count": 31,
     "metadata": {},
     "output_type": "execute_result"
    }
   ],
   "source": [
    "model.get_nearest_neighbors(\"moong\")"
   ]
  },
  {
   "cell_type": "code",
   "execution_count": 32,
   "id": "71852e1c",
   "metadata": {},
   "outputs": [
    {
     "data": {
      "text/plain": [
       "(100,)"
      ]
     },
     "execution_count": 32,
     "metadata": {},
     "output_type": "execute_result"
    }
   ],
   "source": [
    "model.get_word_vector(\"dosa\").shape"
   ]
  },
  {
   "cell_type": "code",
   "execution_count": 33,
   "id": "924e3d8d",
   "metadata": {},
   "outputs": [
    {
     "data": {
      "text/plain": [
       "[(0.8359841704368591, 'tuvar'),\n",
       " (0.8283706307411194, 'fansi'),\n",
       " (0.8094809651374817, 'kumani'),\n",
       " (0.8063598275184631, 'shaak'),\n",
       " (0.8057803511619568, 'saagu'),\n",
       " (0.8031894564628601, 'agathi'),\n",
       " (0.8028165698051453, 'veetu'),\n",
       " (0.8027076125144958, 'mulakushyam'),\n",
       " (0.8023666739463806, 'olya'),\n",
       " (0.7968506813049316, 'saru')]"
      ]
     },
     "execution_count": 33,
     "metadata": {},
     "output_type": "execute_result"
    }
   ],
   "source": [
    "model.get_nearest_neighbors(\"saragva\")"
   ]
  },
  {
   "cell_type": "markdown",
   "id": "5b0b7e80",
   "metadata": {},
   "source": [
    "https://fasttext.cc/docs/en/unsupervised-tutorial.html for details on parameters in train_unsupervised function. Based on the need one can use following parameters for fine tunning,\n",
    "\n",
    "1. epochs = Default value is 5. Epoch is how many times it will loop over the same dataset for the training\n",
    "2. lr = Learning rate\n",
    "3. thread = Number of threads for the training"
   ]
  }
 ],
 "metadata": {
  "kernelspec": {
   "display_name": "Python 3",
   "language": "python",
   "name": "python3"
  },
  "language_info": {
   "codemirror_mode": {
    "name": "ipython",
    "version": 3
   },
   "file_extension": ".py",
   "mimetype": "text/x-python",
   "name": "python",
   "nbconvert_exporter": "python",
   "pygments_lexer": "ipython3",
   "version": "3.12.4"
  }
 },
 "nbformat": 4,
 "nbformat_minor": 5
}
